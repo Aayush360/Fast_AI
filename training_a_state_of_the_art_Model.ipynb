{
  "nbformat": 4,
  "nbformat_minor": 0,
  "metadata": {
    "colab": {
      "name": "training_a_state_of_the_art_Model.ipynb",
      "provenance": [],
      "authorship_tag": "ABX9TyNbxD8+0axdJCFAsmL82nc2",
      "include_colab_link": true
    },
    "kernelspec": {
      "name": "python3",
      "display_name": "Python 3"
    },
    "accelerator": "GPU"
  },
  "cells": [
    {
      "cell_type": "markdown",
      "metadata": {
        "id": "view-in-github",
        "colab_type": "text"
      },
      "source": [
        "<a href=\"https://colab.research.google.com/github/Aayush360/Fast_AI/blob/master/training_a_state_of_the_art_Model.ipynb\" target=\"_parent\"><img src=\"https://colab.research.google.com/assets/colab-badge.svg\" alt=\"Open In Colab\"/></a>"
      ]
    },
    {
      "cell_type": "code",
      "metadata": {
        "id": "oph6Si3SFZB8",
        "colab_type": "code",
        "colab": {
          "base_uri": "https://localhost:8080/",
          "height": 34
        },
        "outputId": "a14574c4-93d6-41c6-f945-1c6c8923eec7"
      },
      "source": [
        "#hide\n",
        "!pip install fastai --upgrade\n",
        "!pip install -Uqq fastbook\n",
        "import fastbook\n",
        "fastbook.setup_book()"
      ],
      "execution_count": 1,
      "outputs": [
        {
          "output_type": "stream",
          "text": [
            "Mounted at /content/gdrive\n"
          ],
          "name": "stdout"
        }
      ]
    },
    {
      "cell_type": "code",
      "metadata": {
        "id": "tNwvvW1HFERT",
        "colab_type": "code",
        "colab": {}
      },
      "source": [
        "#hide\n",
        "from fastbook import *\n",
        "from fastai.vision.widgets import *"
      ],
      "execution_count": 2,
      "outputs": []
    },
    {
      "cell_type": "code",
      "metadata": {
        "id": "50Wg5SoSFlgL",
        "colab_type": "code",
        "colab": {
          "base_uri": "https://localhost:8080/",
          "height": 17
        },
        "outputId": "695ce92f-d741-4920-f2d0-44267318fb16"
      },
      "source": [
        "# download and extract the data\n",
        "\n",
        "path = untar_data(URLs.IMAGENETTE)"
      ],
      "execution_count": 3,
      "outputs": [
        {
          "output_type": "display_data",
          "data": {
            "text/html": [
              ""
            ],
            "text/plain": [
              "<IPython.core.display.HTML object>"
            ]
          },
          "metadata": {
            "tags": []
          }
        }
      ]
    },
    {
      "cell_type": "code",
      "metadata": {
        "id": "lSvD7AJsHHHb",
        "colab_type": "code",
        "colab": {
          "base_uri": "https://localhost:8080/",
          "height": 34
        },
        "outputId": "b00236a7-d7e5-440e-f328-277d3ada1a6e"
      },
      "source": [
        "path.ls()"
      ],
      "execution_count": 4,
      "outputs": [
        {
          "output_type": "execute_result",
          "data": {
            "text/plain": [
              "(#2) [Path('/root/.fastai/data/imagenette2/val'),Path('/root/.fastai/data/imagenette2/train')]"
            ]
          },
          "metadata": {
            "tags": []
          },
          "execution_count": 4
        }
      ]
    },
    {
      "cell_type": "code",
      "metadata": {
        "id": "ePQvSF1kPWCk",
        "colab_type": "code",
        "colab": {
          "base_uri": "https://localhost:8080/",
          "height": 35
        },
        "outputId": "8f15e368-6d81-4fc7-9a2c-c7942e08a123"
      },
      "source": [
        "parent_label(path)"
      ],
      "execution_count": 5,
      "outputs": [
        {
          "output_type": "execute_result",
          "data": {
            "application/vnd.google.colaboratory.intrinsic+json": {
              "type": "string"
            },
            "text/plain": [
              "'data'"
            ]
          },
          "metadata": {
            "tags": []
          },
          "execution_count": 5
        }
      ]
    },
    {
      "cell_type": "markdown",
      "metadata": {
        "id": "fLcCU8JqTQx3",
        "colab_type": "text"
      },
      "source": [
        "### Baseline Model"
      ]
    },
    {
      "cell_type": "code",
      "metadata": {
        "id": "MjBkNy1CGyKT",
        "colab_type": "code",
        "colab": {}
      },
      "source": [
        "# get our datsets into dataloaders objects and using presizing\n",
        "\n",
        "dblock = DataBlock(blocks=(ImageBlock,CategoryBlock),\n",
        "                   get_items= get_image_files,\n",
        "                   get_y = parent_label,\n",
        "                   item_tfms = Resize(460),\n",
        "                   batch_tfms = aug_transforms(size=224, min_scale=0.75))\n",
        "\n",
        "dls = dblock.dataloaders(path,bs=64)"
      ],
      "execution_count": 6,
      "outputs": []
    },
    {
      "cell_type": "code",
      "metadata": {
        "id": "xJuuVgUTH3_v",
        "colab_type": "code",
        "colab": {
          "base_uri": "https://localhost:8080/",
          "height": 204
        },
        "outputId": "fbde3209-e6ad-4fad-bbcc-038bc1dbeed1"
      },
      "source": [
        "# let's do a training that will serve as a baseline\n",
        "\n",
        "model = xresnet50()\n",
        "learn = Learner(dls, model, loss=CrossEntropyLossFlat(), metrics=accuracy)\n",
        "learn.fit_one_cycle(5,3e-3)"
      ],
      "execution_count": 8,
      "outputs": [
        {
          "output_type": "display_data",
          "data": {
            "text/html": [
              "<table border=\"1\" class=\"dataframe\">\n",
              "  <thead>\n",
              "    <tr style=\"text-align: left;\">\n",
              "      <th>epoch</th>\n",
              "      <th>train_loss</th>\n",
              "      <th>valid_loss</th>\n",
              "      <th>accuracy</th>\n",
              "      <th>time</th>\n",
              "    </tr>\n",
              "  </thead>\n",
              "  <tbody>\n",
              "    <tr>\n",
              "      <td>0</td>\n",
              "      <td>1.608590</td>\n",
              "      <td>2.537468</td>\n",
              "      <td>0.356236</td>\n",
              "      <td>02:55</td>\n",
              "    </tr>\n",
              "    <tr>\n",
              "      <td>1</td>\n",
              "      <td>1.205611</td>\n",
              "      <td>1.850787</td>\n",
              "      <td>0.512323</td>\n",
              "      <td>02:56</td>\n",
              "    </tr>\n",
              "    <tr>\n",
              "      <td>2</td>\n",
              "      <td>0.965782</td>\n",
              "      <td>0.984648</td>\n",
              "      <td>0.689694</td>\n",
              "      <td>02:56</td>\n",
              "    </tr>\n",
              "    <tr>\n",
              "      <td>3</td>\n",
              "      <td>0.728013</td>\n",
              "      <td>0.732605</td>\n",
              "      <td>0.773712</td>\n",
              "      <td>02:56</td>\n",
              "    </tr>\n",
              "    <tr>\n",
              "      <td>4</td>\n",
              "      <td>0.599703</td>\n",
              "      <td>0.585600</td>\n",
              "      <td>0.815907</td>\n",
              "      <td>02:56</td>\n",
              "    </tr>\n",
              "  </tbody>\n",
              "</table>"
            ],
            "text/plain": [
              "<IPython.core.display.HTML object>"
            ]
          },
          "metadata": {
            "tags": []
          }
        }
      ]
    },
    {
      "cell_type": "markdown",
      "metadata": {
        "id": "AJfo7qePKSwV",
        "colab_type": "text"
      },
      "source": [
        "### Normalization\n",
        "\n",
        "(to make mean 0 and std. dev of 1)\n",
        "\n",
        "when working with model that are being trained form scratch, or fine-tuned to a very different dataset from the one used for pretraining, some additional techniques are important\n",
        "\n",
        "\n",
        "\n"
      ]
    },
    {
      "cell_type": "code",
      "metadata": {
        "id": "-eXkSBkdH82Z",
        "colab_type": "code",
        "colab": {}
      },
      "source": [
        "# let's use standard imagenet mean and std. dev provided by fastai"
      ],
      "execution_count": 9,
      "outputs": []
    },
    {
      "cell_type": "code",
      "metadata": {
        "id": "O8qJ6OuQOR5P",
        "colab_type": "code",
        "colab": {}
      },
      "source": [
        "def get_dls(bs, size):\n",
        "  dblock = DataBlock(blocks=(ImageBlock, CategoryBlock),\n",
        "                     get_items = get_image_files,\n",
        "                     get_y = parent_label,\n",
        "                     item_tfms = Resize(460),\n",
        "                     batch_tfms = [*aug_transforms(size=size, min_scale=0.75),\n",
        "                                   Normalize.from_stats(*imagenet_stats)])\n",
        "  return dblock.dataloaders(path,bs=bs)"
      ],
      "execution_count": 7,
      "outputs": []
    },
    {
      "cell_type": "code",
      "metadata": {
        "id": "nN0y1qW1KVKX",
        "colab_type": "code",
        "colab": {}
      },
      "source": [
        "dls = get_dls(64, 224)"
      ],
      "execution_count": 15,
      "outputs": []
    },
    {
      "cell_type": "code",
      "metadata": {
        "id": "VQcqGdUJPrDz",
        "colab_type": "code",
        "colab": {}
      },
      "source": [
        "x,y = dls.one_batch()"
      ],
      "execution_count": 16,
      "outputs": []
    },
    {
      "cell_type": "code",
      "metadata": {
        "id": "molQywd5PvIt",
        "colab_type": "code",
        "colab": {
          "base_uri": "https://localhost:8080/",
          "height": 51
        },
        "outputId": "dc5ce767-0ca4-43b4-b3fa-26569fd3689f"
      },
      "source": [
        "x.mean(dim=[0,2,3]), x.std(dim=[0,2,3])"
      ],
      "execution_count": 17,
      "outputs": [
        {
          "output_type": "execute_result",
          "data": {
            "text/plain": [
              "(TensorImage([-0.0313,  0.0090,  0.0224], device='cuda:0'),\n",
              " TensorImage([1.2185, 1.2251, 1.3035], device='cuda:0'))"
            ]
          },
          "metadata": {
            "tags": []
          },
          "execution_count": 17
        }
      ]
    },
    {
      "cell_type": "code",
      "metadata": {
        "id": "mfMhg_C8P4XW",
        "colab_type": "code",
        "colab": {}
      },
      "source": [
        "# let's see what effect it had on our training"
      ],
      "execution_count": 18,
      "outputs": []
    },
    {
      "cell_type": "code",
      "metadata": {
        "id": "7hNV7Lp4QVTP",
        "colab_type": "code",
        "colab": {
          "base_uri": "https://localhost:8080/",
          "height": 204
        },
        "outputId": "33ef9f4d-d8a7-42ad-a828-48c6bf061a55"
      },
      "source": [
        "model = xresnet50()\n",
        "learn = Learner(dls, model, loss_func=CrossEntropyLossFlat(), metrics=accuracy)\n",
        "learn.fit_one_cycle(5,3e-3)"
      ],
      "execution_count": 19,
      "outputs": [
        {
          "output_type": "display_data",
          "data": {
            "text/html": [
              "<table border=\"1\" class=\"dataframe\">\n",
              "  <thead>\n",
              "    <tr style=\"text-align: left;\">\n",
              "      <th>epoch</th>\n",
              "      <th>train_loss</th>\n",
              "      <th>valid_loss</th>\n",
              "      <th>accuracy</th>\n",
              "      <th>time</th>\n",
              "    </tr>\n",
              "  </thead>\n",
              "  <tbody>\n",
              "    <tr>\n",
              "      <td>0</td>\n",
              "      <td>1.648656</td>\n",
              "      <td>6.249081</td>\n",
              "      <td>0.320762</td>\n",
              "      <td>02:56</td>\n",
              "    </tr>\n",
              "    <tr>\n",
              "      <td>1</td>\n",
              "      <td>1.229609</td>\n",
              "      <td>1.618819</td>\n",
              "      <td>0.549664</td>\n",
              "      <td>02:56</td>\n",
              "    </tr>\n",
              "    <tr>\n",
              "      <td>2</td>\n",
              "      <td>0.974689</td>\n",
              "      <td>2.048304</td>\n",
              "      <td>0.521658</td>\n",
              "      <td>02:55</td>\n",
              "    </tr>\n",
              "    <tr>\n",
              "      <td>3</td>\n",
              "      <td>0.750263</td>\n",
              "      <td>0.698057</td>\n",
              "      <td>0.779313</td>\n",
              "      <td>02:55</td>\n",
              "    </tr>\n",
              "    <tr>\n",
              "      <td>4</td>\n",
              "      <td>0.599795</td>\n",
              "      <td>0.543447</td>\n",
              "      <td>0.825990</td>\n",
              "      <td>02:56</td>\n",
              "    </tr>\n",
              "  </tbody>\n",
              "</table>"
            ],
            "text/plain": [
              "<IPython.core.display.HTML object>"
            ]
          },
          "metadata": {
            "tags": []
          }
        }
      ]
    },
    {
      "cell_type": "markdown",
      "metadata": {
        "id": "67I86ElRRbA8",
        "colab_type": "text"
      },
      "source": [
        "### Progressive Reisizing\n",
        "\n",
        "start training using smaller images and end the training using larger images\n",
        "- using smaller images helps training complete faster\n",
        "- using larger image during the completion, makes the final accuracy much higher\n",
        "\n",
        "- it is a data augmentation techniques, thus the model that are trained with progressive resizing generalizes well "
      ]
    },
    {
      "cell_type": "code",
      "metadata": {
        "id": "JDHPRyqJQlC0",
        "colab_type": "code",
        "colab": {
          "base_uri": "https://localhost:8080/",
          "height": 173
        },
        "outputId": "ede4f8e8-ece5-4633-db94-366fde55ce46"
      },
      "source": [
        "dls = get_dls(128,128)\n",
        "learn = Learner(dls, xresnet50(),loss_func= CrossEntropyLossFlat(),metrics=accuracy)\n",
        "learn.fit_one_cycle(4,3e-3)"
      ],
      "execution_count": 8,
      "outputs": [
        {
          "output_type": "display_data",
          "data": {
            "text/html": [
              "<table border=\"1\" class=\"dataframe\">\n",
              "  <thead>\n",
              "    <tr style=\"text-align: left;\">\n",
              "      <th>epoch</th>\n",
              "      <th>train_loss</th>\n",
              "      <th>valid_loss</th>\n",
              "      <th>accuracy</th>\n",
              "      <th>time</th>\n",
              "    </tr>\n",
              "  </thead>\n",
              "  <tbody>\n",
              "    <tr>\n",
              "      <td>0</td>\n",
              "      <td>1.875263</td>\n",
              "      <td>3.431871</td>\n",
              "      <td>0.375653</td>\n",
              "      <td>03:01</td>\n",
              "    </tr>\n",
              "    <tr>\n",
              "      <td>1</td>\n",
              "      <td>1.311638</td>\n",
              "      <td>1.380955</td>\n",
              "      <td>0.575803</td>\n",
              "      <td>03:02</td>\n",
              "    </tr>\n",
              "    <tr>\n",
              "      <td>2</td>\n",
              "      <td>0.990952</td>\n",
              "      <td>0.905073</td>\n",
              "      <td>0.734503</td>\n",
              "      <td>03:00</td>\n",
              "    </tr>\n",
              "    <tr>\n",
              "      <td>3</td>\n",
              "      <td>0.754376</td>\n",
              "      <td>0.714095</td>\n",
              "      <td>0.781180</td>\n",
              "      <td>03:01</td>\n",
              "    </tr>\n",
              "  </tbody>\n",
              "</table>"
            ],
            "text/plain": [
              "<IPython.core.display.HTML object>"
            ]
          },
          "metadata": {
            "tags": []
          }
        }
      ]
    },
    {
      "cell_type": "code",
      "metadata": {
        "id": "37FumATx2pe_",
        "colab_type": "code",
        "colab": {}
      },
      "source": [
        "# now fine_tune the model using the increased size "
      ],
      "execution_count": 10,
      "outputs": []
    },
    {
      "cell_type": "code",
      "metadata": {
        "id": "yxcMR_QCypg9",
        "colab_type": "code",
        "colab": {
          "base_uri": "https://localhost:8080/",
          "height": 267
        },
        "outputId": "3baa3975-7049-4742-9c46-2757dbabd067"
      },
      "source": [
        "dls = get_dls(64,224)\n",
        "learn.fine_tune(5,1e-3)"
      ],
      "execution_count": 9,
      "outputs": [
        {
          "output_type": "display_data",
          "data": {
            "text/html": [
              "<table border=\"1\" class=\"dataframe\">\n",
              "  <thead>\n",
              "    <tr style=\"text-align: left;\">\n",
              "      <th>epoch</th>\n",
              "      <th>train_loss</th>\n",
              "      <th>valid_loss</th>\n",
              "      <th>accuracy</th>\n",
              "      <th>time</th>\n",
              "    </tr>\n",
              "  </thead>\n",
              "  <tbody>\n",
              "    <tr>\n",
              "      <td>0</td>\n",
              "      <td>0.741726</td>\n",
              "      <td>1.092988</td>\n",
              "      <td>0.648992</td>\n",
              "      <td>03:01</td>\n",
              "    </tr>\n",
              "  </tbody>\n",
              "</table>"
            ],
            "text/plain": [
              "<IPython.core.display.HTML object>"
            ]
          },
          "metadata": {
            "tags": []
          }
        },
        {
          "output_type": "display_data",
          "data": {
            "text/html": [
              "<table border=\"1\" class=\"dataframe\">\n",
              "  <thead>\n",
              "    <tr style=\"text-align: left;\">\n",
              "      <th>epoch</th>\n",
              "      <th>train_loss</th>\n",
              "      <th>valid_loss</th>\n",
              "      <th>accuracy</th>\n",
              "      <th>time</th>\n",
              "    </tr>\n",
              "  </thead>\n",
              "  <tbody>\n",
              "    <tr>\n",
              "      <td>0</td>\n",
              "      <td>0.627448</td>\n",
              "      <td>0.718774</td>\n",
              "      <td>0.776699</td>\n",
              "      <td>02:58</td>\n",
              "    </tr>\n",
              "    <tr>\n",
              "      <td>1</td>\n",
              "      <td>0.631106</td>\n",
              "      <td>0.717662</td>\n",
              "      <td>0.781180</td>\n",
              "      <td>03:00</td>\n",
              "    </tr>\n",
              "    <tr>\n",
              "      <td>2</td>\n",
              "      <td>0.576950</td>\n",
              "      <td>0.631951</td>\n",
              "      <td>0.807692</td>\n",
              "      <td>02:59</td>\n",
              "    </tr>\n",
              "    <tr>\n",
              "      <td>3</td>\n",
              "      <td>0.514913</td>\n",
              "      <td>0.576335</td>\n",
              "      <td>0.823002</td>\n",
              "      <td>02:59</td>\n",
              "    </tr>\n",
              "    <tr>\n",
              "      <td>4</td>\n",
              "      <td>0.466125</td>\n",
              "      <td>0.552052</td>\n",
              "      <td>0.830471</td>\n",
              "      <td>02:59</td>\n",
              "    </tr>\n",
              "  </tbody>\n",
              "</table>"
            ],
            "text/plain": [
              "<IPython.core.display.HTML object>"
            ]
          },
          "metadata": {
            "tags": []
          }
        }
      ]
    },
    {
      "cell_type": "markdown",
      "metadata": {
        "id": "OyMhbkPR1akC",
        "colab_type": "text"
      },
      "source": [
        "### Test Time Augmentation (TTA)\n",
        "\n",
        "instead of cropping from center portion of the image from the validation set( which can miss out important details for that image) we use multiple crops from different locations (provided), pass them through the model and take the maximum or average of the predictions.\n",
        "We can do this not just for cropping but for different values across all our test time augmentation parameters.\n",
        "\n",
        "- this increase the amount of time required for validation or inference by the number of test-time augmentede images requested"
      ]
    },
    {
      "cell_type": "code",
      "metadata": {
        "id": "d9H3_aUL2HPm",
        "colab_type": "code",
        "colab": {
          "base_uri": "https://localhost:8080/",
          "height": 54
        },
        "outputId": "c8fd9a8a-017a-4a20-f4b1-69c99b3edfbf"
      },
      "source": [
        "preds, targs = learn.tta()\n",
        "accuracy(preds,targs).item()"
      ],
      "execution_count": 16,
      "outputs": [
        {
          "output_type": "display_data",
          "data": {
            "text/html": [
              "\n",
              "    <div>\n",
              "        <style>\n",
              "            /* Turns off some styling */\n",
              "            progress {\n",
              "                /* gets rid of default border in Firefox and Opera. */\n",
              "                border: none;\n",
              "                /* Needs to be in here for Safari polyfill so background images work as expected. */\n",
              "                background-size: auto;\n",
              "            }\n",
              "            .progress-bar-interrupted, .progress-bar-interrupted::-webkit-progress-bar {\n",
              "                background: #F44336;\n",
              "            }\n",
              "        </style>\n",
              "      <progress value='0' class='' max='5' style='width:300px; height:20px; vertical-align: middle;'></progress>\n",
              "      \n",
              "    </div>\n",
              "    \n"
            ],
            "text/plain": [
              "<IPython.core.display.HTML object>"
            ]
          },
          "metadata": {
            "tags": []
          }
        },
        {
          "output_type": "display_data",
          "data": {
            "text/html": [
              ""
            ],
            "text/plain": [
              "<IPython.core.display.HTML object>"
            ]
          },
          "metadata": {
            "tags": []
          }
        },
        {
          "output_type": "execute_result",
          "data": {
            "text/plain": [
              "0.8278566002845764"
            ]
          },
          "metadata": {
            "tags": []
          },
          "execution_count": 16
        }
      ]
    },
    {
      "cell_type": "markdown",
      "metadata": {
        "id": "4ul0Eks2440N",
        "colab_type": "text"
      },
      "source": [
        "### Mixup\n",
        "\n",
        "constructs virtual training example\n",
        "- takes weighted average of selected image and random image, and also weighted average of selected image's label and random image's label.\n",
        "- weight is also selected as random\n",
        "- we need labels of the dataset to be one-hot encoded"
      ]
    },
    {
      "cell_type": "code",
      "metadata": {
        "id": "cav5fD3z7-rc",
        "colab_type": "code",
        "colab": {}
      },
      "source": [
        "# we use mixup callback, callbacks are used to inject custom behaviour in the training loop"
      ],
      "execution_count": 11,
      "outputs": []
    },
    {
      "cell_type": "code",
      "metadata": {
        "id": "PmZ8SkUR2mwR",
        "colab_type": "code",
        "colab": {
          "base_uri": "https://localhost:8080/",
          "height": 204
        },
        "outputId": "940dd299-de8d-4b03-a33e-42fd4920c5a3"
      },
      "source": [
        "model = xresnet50()\n",
        "learn = Learner(dls, model, loss_func=CrossEntropyLossFlat(), metrics=accuracy, cbs=MixUp)\n",
        "learn.fit_one_cycle(5,3e-3)\n"
      ],
      "execution_count": 13,
      "outputs": [
        {
          "output_type": "display_data",
          "data": {
            "text/html": [
              "<table border=\"1\" class=\"dataframe\">\n",
              "  <thead>\n",
              "    <tr style=\"text-align: left;\">\n",
              "      <th>epoch</th>\n",
              "      <th>train_loss</th>\n",
              "      <th>valid_loss</th>\n",
              "      <th>accuracy</th>\n",
              "      <th>time</th>\n",
              "    </tr>\n",
              "  </thead>\n",
              "  <tbody>\n",
              "    <tr>\n",
              "      <td>0</td>\n",
              "      <td>1.943651</td>\n",
              "      <td>2.493498</td>\n",
              "      <td>0.351755</td>\n",
              "      <td>06:05</td>\n",
              "    </tr>\n",
              "    <tr>\n",
              "      <td>1</td>\n",
              "      <td>1.665869</td>\n",
              "      <td>1.574992</td>\n",
              "      <td>0.486931</td>\n",
              "      <td>06:04</td>\n",
              "    </tr>\n",
              "    <tr>\n",
              "      <td>2</td>\n",
              "      <td>1.412369</td>\n",
              "      <td>1.166129</td>\n",
              "      <td>0.625093</td>\n",
              "      <td>06:05</td>\n",
              "    </tr>\n",
              "    <tr>\n",
              "      <td>3</td>\n",
              "      <td>1.241076</td>\n",
              "      <td>0.770172</td>\n",
              "      <td>0.763630</td>\n",
              "      <td>06:04</td>\n",
              "    </tr>\n",
              "    <tr>\n",
              "      <td>4</td>\n",
              "      <td>1.153270</td>\n",
              "      <td>0.640036</td>\n",
              "      <td>0.807692</td>\n",
              "      <td>06:04</td>\n",
              "    </tr>\n",
              "  </tbody>\n",
              "</table>"
            ],
            "text/plain": [
              "<IPython.core.display.HTML object>"
            ]
          },
          "metadata": {
            "tags": []
          }
        }
      ]
    },
    {
      "cell_type": "code",
      "metadata": {
        "id": "rdIwHhIv2mzh",
        "colab_type": "code",
        "colab": {}
      },
      "source": [
        "# harder to train because it's harder to see what's in each image, also has to predict two labels per each image\n",
        "# requires far more epochs to train to get better accuracy compared to other augmentation approches\n",
        "# problem with mixup- changing the labels also changes the data augmentation - to handle this issue we use label smoothing"
      ],
      "execution_count": 14,
      "outputs": []
    },
    {
      "cell_type": "markdown",
      "metadata": {
        "id": "J7R2dUVr_w8D",
        "colab_type": "text"
      },
      "source": [
        "### Label smoothing\n",
        "\n",
        "- replace all 1's with number a bit less than 1, and 0's by a number a bit greater than 0\n",
        "- makes training more robust even if there is mislabeled data, results in a model that generalizes better at inference\n",
        "- prevent model from predicting something overconfidently\n",
        "\n",
        "- replace 0 with 0+(e/N) and 1 by 1-e+(e/N) , e is epsilon (0.1 usually, meaning we are 10% unsure that the labels is 0) and N is the number of classes, they should sum up to 1, 0+(e/N)+1-e+(e/N)=1"
      ]
    },
    {
      "cell_type": "code",
      "metadata": {
        "id": "TFcejyQg2m5C",
        "colab_type": "code",
        "colab": {
          "base_uri": "https://localhost:8080/",
          "height": 204
        },
        "outputId": "d3c87cc0-93aa-4679-ef18-84d3554e3721"
      },
      "source": [
        "model = xresnet50()\n",
        "learn = Learner(dls, model,loss_func=LabelSmoothingCrossEntropy(),\n",
        "                metrics=accuracy)\n",
        "learn.fit_one_cycle(5,3e-3)"
      ],
      "execution_count": 15,
      "outputs": [
        {
          "output_type": "display_data",
          "data": {
            "text/html": [
              "<table border=\"1\" class=\"dataframe\">\n",
              "  <thead>\n",
              "    <tr style=\"text-align: left;\">\n",
              "      <th>epoch</th>\n",
              "      <th>train_loss</th>\n",
              "      <th>valid_loss</th>\n",
              "      <th>accuracy</th>\n",
              "      <th>time</th>\n",
              "    </tr>\n",
              "  </thead>\n",
              "  <tbody>\n",
              "    <tr>\n",
              "      <td>0</td>\n",
              "      <td>2.512515</td>\n",
              "      <td>2.829167</td>\n",
              "      <td>0.457431</td>\n",
              "      <td>06:03</td>\n",
              "    </tr>\n",
              "    <tr>\n",
              "      <td>1</td>\n",
              "      <td>2.152401</td>\n",
              "      <td>2.159655</td>\n",
              "      <td>0.625840</td>\n",
              "      <td>06:02</td>\n",
              "    </tr>\n",
              "    <tr>\n",
              "      <td>2</td>\n",
              "      <td>1.923842</td>\n",
              "      <td>2.129009</td>\n",
              "      <td>0.649365</td>\n",
              "      <td>06:02</td>\n",
              "    </tr>\n",
              "    <tr>\n",
              "      <td>3</td>\n",
              "      <td>1.719157</td>\n",
              "      <td>1.628710</td>\n",
              "      <td>0.795743</td>\n",
              "      <td>06:02</td>\n",
              "    </tr>\n",
              "    <tr>\n",
              "      <td>4</td>\n",
              "      <td>1.602434</td>\n",
              "      <td>1.573407</td>\n",
              "      <td>0.822255</td>\n",
              "      <td>06:02</td>\n",
              "    </tr>\n",
              "  </tbody>\n",
              "</table>"
            ],
            "text/plain": [
              "<IPython.core.display.HTML object>"
            ]
          },
          "metadata": {
            "tags": []
          }
        }
      ]
    },
    {
      "cell_type": "code",
      "metadata": {
        "id": "YpxIoKRn2nAg",
        "colab_type": "code",
        "colab": {}
      },
      "source": [
        "# like with mixup, with label smoothing no general improvements until you train for longer epochs"
      ],
      "execution_count": null,
      "outputs": []
    },
    {
      "cell_type": "markdown",
      "metadata": {
        "id": "hcoyBjgRK2P4",
        "colab_type": "text"
      },
      "source": [
        "#### when we want to prototype quick experiments on a new datasets - make a small subset of datset that is the representative of the entire datset"
      ]
    },
    {
      "cell_type": "code",
      "metadata": {
        "id": "ReKhl6qX2m_I",
        "colab_type": "code",
        "colab": {}
      },
      "source": [
        ""
      ],
      "execution_count": null,
      "outputs": []
    },
    {
      "cell_type": "code",
      "metadata": {
        "id": "7KjzRgho2m92",
        "colab_type": "code",
        "colab": {}
      },
      "source": [
        ""
      ],
      "execution_count": null,
      "outputs": []
    },
    {
      "cell_type": "code",
      "metadata": {
        "id": "iB3djA9c2m2r",
        "colab_type": "code",
        "colab": {}
      },
      "source": [
        ""
      ],
      "execution_count": null,
      "outputs": []
    }
  ]
}