{
  "nbformat": 4,
  "nbformat_minor": 0,
  "metadata": {
    "colab": {
      "name": "multi_label_classification.ipynb",
      "provenance": [],
      "authorship_tag": "ABX9TyNEuDk2Zy0SZzZSkFTRDPg5",
      "include_colab_link": true
    },
    "kernelspec": {
      "name": "python3",
      "display_name": "Python 3"
    },
    "accelerator": "GPU",
    "widgets": {
      "application/vnd.jupyter.widget-state+json": {
        "434b4b88948340c2bbb496ff92450e71": {
          "model_module": "@jupyter-widgets/controls",
          "model_name": "HBoxModel",
          "state": {
            "_view_name": "HBoxView",
            "_dom_classes": [],
            "_model_name": "HBoxModel",
            "_view_module": "@jupyter-widgets/controls",
            "_model_module_version": "1.5.0",
            "_view_count": null,
            "_view_module_version": "1.5.0",
            "box_style": "",
            "layout": "IPY_MODEL_a7c33bc4bfe2443ba6af4ee98886c56d",
            "_model_module": "@jupyter-widgets/controls",
            "children": [
              "IPY_MODEL_65fc30ea6a5744cfb7aec99bb5061319",
              "IPY_MODEL_c7d71c7bd2b54ab9b665e388b3318b64"
            ]
          }
        },
        "a7c33bc4bfe2443ba6af4ee98886c56d": {
          "model_module": "@jupyter-widgets/base",
          "model_name": "LayoutModel",
          "state": {
            "_view_name": "LayoutView",
            "grid_template_rows": null,
            "right": null,
            "justify_content": null,
            "_view_module": "@jupyter-widgets/base",
            "overflow": null,
            "_model_module_version": "1.2.0",
            "_view_count": null,
            "flex_flow": null,
            "width": null,
            "min_width": null,
            "border": null,
            "align_items": null,
            "bottom": null,
            "_model_module": "@jupyter-widgets/base",
            "top": null,
            "grid_column": null,
            "overflow_y": null,
            "overflow_x": null,
            "grid_auto_flow": null,
            "grid_area": null,
            "grid_template_columns": null,
            "flex": null,
            "_model_name": "LayoutModel",
            "justify_items": null,
            "grid_row": null,
            "max_height": null,
            "align_content": null,
            "visibility": null,
            "align_self": null,
            "height": null,
            "min_height": null,
            "padding": null,
            "grid_auto_rows": null,
            "grid_gap": null,
            "max_width": null,
            "order": null,
            "_view_module_version": "1.2.0",
            "grid_template_areas": null,
            "object_position": null,
            "object_fit": null,
            "grid_auto_columns": null,
            "margin": null,
            "display": null,
            "left": null
          }
        },
        "65fc30ea6a5744cfb7aec99bb5061319": {
          "model_module": "@jupyter-widgets/controls",
          "model_name": "FloatProgressModel",
          "state": {
            "_view_name": "ProgressView",
            "style": "IPY_MODEL_9b7d08ef5c5d4e70b2f81220c78101ca",
            "_dom_classes": [],
            "description": "100%",
            "_model_name": "FloatProgressModel",
            "bar_style": "success",
            "max": 102502400,
            "_view_module": "@jupyter-widgets/controls",
            "_model_module_version": "1.5.0",
            "value": 102502400,
            "_view_count": null,
            "_view_module_version": "1.5.0",
            "orientation": "horizontal",
            "min": 0,
            "description_tooltip": null,
            "_model_module": "@jupyter-widgets/controls",
            "layout": "IPY_MODEL_e5ce1f2a5d6549158e20ac4b94cf3101"
          }
        },
        "c7d71c7bd2b54ab9b665e388b3318b64": {
          "model_module": "@jupyter-widgets/controls",
          "model_name": "HTMLModel",
          "state": {
            "_view_name": "HTMLView",
            "style": "IPY_MODEL_7c8f217a563f46c6b4ac1a6c1323dd4a",
            "_dom_classes": [],
            "description": "",
            "_model_name": "HTMLModel",
            "placeholder": "​",
            "_view_module": "@jupyter-widgets/controls",
            "_model_module_version": "1.5.0",
            "value": " 97.8M/97.8M [00:01&lt;00:00, 80.8MB/s]",
            "_view_count": null,
            "_view_module_version": "1.5.0",
            "description_tooltip": null,
            "_model_module": "@jupyter-widgets/controls",
            "layout": "IPY_MODEL_416a2335d650482eb2509e96942dcac9"
          }
        },
        "9b7d08ef5c5d4e70b2f81220c78101ca": {
          "model_module": "@jupyter-widgets/controls",
          "model_name": "ProgressStyleModel",
          "state": {
            "_view_name": "StyleView",
            "_model_name": "ProgressStyleModel",
            "description_width": "initial",
            "_view_module": "@jupyter-widgets/base",
            "_model_module_version": "1.5.0",
            "_view_count": null,
            "_view_module_version": "1.2.0",
            "bar_color": null,
            "_model_module": "@jupyter-widgets/controls"
          }
        },
        "e5ce1f2a5d6549158e20ac4b94cf3101": {
          "model_module": "@jupyter-widgets/base",
          "model_name": "LayoutModel",
          "state": {
            "_view_name": "LayoutView",
            "grid_template_rows": null,
            "right": null,
            "justify_content": null,
            "_view_module": "@jupyter-widgets/base",
            "overflow": null,
            "_model_module_version": "1.2.0",
            "_view_count": null,
            "flex_flow": null,
            "width": null,
            "min_width": null,
            "border": null,
            "align_items": null,
            "bottom": null,
            "_model_module": "@jupyter-widgets/base",
            "top": null,
            "grid_column": null,
            "overflow_y": null,
            "overflow_x": null,
            "grid_auto_flow": null,
            "grid_area": null,
            "grid_template_columns": null,
            "flex": null,
            "_model_name": "LayoutModel",
            "justify_items": null,
            "grid_row": null,
            "max_height": null,
            "align_content": null,
            "visibility": null,
            "align_self": null,
            "height": null,
            "min_height": null,
            "padding": null,
            "grid_auto_rows": null,
            "grid_gap": null,
            "max_width": null,
            "order": null,
            "_view_module_version": "1.2.0",
            "grid_template_areas": null,
            "object_position": null,
            "object_fit": null,
            "grid_auto_columns": null,
            "margin": null,
            "display": null,
            "left": null
          }
        },
        "7c8f217a563f46c6b4ac1a6c1323dd4a": {
          "model_module": "@jupyter-widgets/controls",
          "model_name": "DescriptionStyleModel",
          "state": {
            "_view_name": "StyleView",
            "_model_name": "DescriptionStyleModel",
            "description_width": "",
            "_view_module": "@jupyter-widgets/base",
            "_model_module_version": "1.5.0",
            "_view_count": null,
            "_view_module_version": "1.2.0",
            "_model_module": "@jupyter-widgets/controls"
          }
        },
        "416a2335d650482eb2509e96942dcac9": {
          "model_module": "@jupyter-widgets/base",
          "model_name": "LayoutModel",
          "state": {
            "_view_name": "LayoutView",
            "grid_template_rows": null,
            "right": null,
            "justify_content": null,
            "_view_module": "@jupyter-widgets/base",
            "overflow": null,
            "_model_module_version": "1.2.0",
            "_view_count": null,
            "flex_flow": null,
            "width": null,
            "min_width": null,
            "border": null,
            "align_items": null,
            "bottom": null,
            "_model_module": "@jupyter-widgets/base",
            "top": null,
            "grid_column": null,
            "overflow_y": null,
            "overflow_x": null,
            "grid_auto_flow": null,
            "grid_area": null,
            "grid_template_columns": null,
            "flex": null,
            "_model_name": "LayoutModel",
            "justify_items": null,
            "grid_row": null,
            "max_height": null,
            "align_content": null,
            "visibility": null,
            "align_self": null,
            "height": null,
            "min_height": null,
            "padding": null,
            "grid_auto_rows": null,
            "grid_gap": null,
            "max_width": null,
            "order": null,
            "_view_module_version": "1.2.0",
            "grid_template_areas": null,
            "object_position": null,
            "object_fit": null,
            "grid_auto_columns": null,
            "margin": null,
            "display": null,
            "left": null
          }
        }
      }
    }
  },
  "cells": [
    {
      "cell_type": "markdown",
      "metadata": {
        "id": "view-in-github",
        "colab_type": "text"
      },
      "source": [
        "<a href=\"https://colab.research.google.com/github/Aayush360/Fast_AI/blob/master/multi_label_classification.ipynb\" target=\"_parent\"><img src=\"https://colab.research.google.com/assets/colab-badge.svg\" alt=\"Open In Colab\"/></a>"
      ]
    },
    {
      "cell_type": "code",
      "metadata": {
        "id": "TUTbeE-cHpgh",
        "colab_type": "code",
        "colab": {}
      },
      "source": [
        "#hide\n",
        "!pip install -Uqq fastbook\n",
        "import fastbook\n",
        "fastbook.setup_book()"
      ],
      "execution_count": 62,
      "outputs": []
    },
    {
      "cell_type": "code",
      "metadata": {
        "id": "qcN2c4QFH4Nx",
        "colab_type": "code",
        "colab": {}
      },
      "source": [
        "#hide\n",
        "from fastbook import *"
      ],
      "execution_count": 63,
      "outputs": []
    },
    {
      "cell_type": "code",
      "metadata": {
        "id": "KAywtsIgH59W",
        "colab_type": "code",
        "colab": {}
      },
      "source": [
        "path = untar_data(URLs.PASCAL_2007)"
      ],
      "execution_count": 64,
      "outputs": []
    },
    {
      "cell_type": "code",
      "metadata": {
        "id": "wjxMsqRNI0Uy",
        "colab_type": "code",
        "colab": {
          "base_uri": "https://localhost:8080/",
          "height": 54
        },
        "outputId": "81ce3b14-93b9-41ae-9750-b6b5f22730a9"
      },
      "source": [
        "path.ls()"
      ],
      "execution_count": 65,
      "outputs": [
        {
          "output_type": "execute_result",
          "data": {
            "text/plain": [
              "(#8) [Path('/root/.fastai/data/pascal_2007/segmentation'),Path('/root/.fastai/data/pascal_2007/test'),Path('/root/.fastai/data/pascal_2007/train.csv'),Path('/root/.fastai/data/pascal_2007/test.csv'),Path('/root/.fastai/data/pascal_2007/train.json'),Path('/root/.fastai/data/pascal_2007/train'),Path('/root/.fastai/data/pascal_2007/valid.json'),Path('/root/.fastai/data/pascal_2007/test.json')]"
            ]
          },
          "metadata": {
            "tags": []
          },
          "execution_count": 65
        }
      ]
    },
    {
      "cell_type": "code",
      "metadata": {
        "id": "xxed_ApUIWco",
        "colab_type": "code",
        "colab": {
          "base_uri": "https://localhost:8080/",
          "height": 204
        },
        "outputId": "1dfb7079-0550-4390-d7fc-871aead5d044"
      },
      "source": [
        "df = pd.read_csv(path/'train.csv')\n",
        "df.head()"
      ],
      "execution_count": 66,
      "outputs": [
        {
          "output_type": "execute_result",
          "data": {
            "text/html": [
              "<div>\n",
              "<style scoped>\n",
              "    .dataframe tbody tr th:only-of-type {\n",
              "        vertical-align: middle;\n",
              "    }\n",
              "\n",
              "    .dataframe tbody tr th {\n",
              "        vertical-align: top;\n",
              "    }\n",
              "\n",
              "    .dataframe thead th {\n",
              "        text-align: right;\n",
              "    }\n",
              "</style>\n",
              "<table border=\"1\" class=\"dataframe\">\n",
              "  <thead>\n",
              "    <tr style=\"text-align: right;\">\n",
              "      <th></th>\n",
              "      <th>fname</th>\n",
              "      <th>labels</th>\n",
              "      <th>is_valid</th>\n",
              "    </tr>\n",
              "  </thead>\n",
              "  <tbody>\n",
              "    <tr>\n",
              "      <th>0</th>\n",
              "      <td>000005.jpg</td>\n",
              "      <td>chair</td>\n",
              "      <td>True</td>\n",
              "    </tr>\n",
              "    <tr>\n",
              "      <th>1</th>\n",
              "      <td>000007.jpg</td>\n",
              "      <td>car</td>\n",
              "      <td>True</td>\n",
              "    </tr>\n",
              "    <tr>\n",
              "      <th>2</th>\n",
              "      <td>000009.jpg</td>\n",
              "      <td>horse person</td>\n",
              "      <td>True</td>\n",
              "    </tr>\n",
              "    <tr>\n",
              "      <th>3</th>\n",
              "      <td>000012.jpg</td>\n",
              "      <td>car</td>\n",
              "      <td>False</td>\n",
              "    </tr>\n",
              "    <tr>\n",
              "      <th>4</th>\n",
              "      <td>000016.jpg</td>\n",
              "      <td>bicycle</td>\n",
              "      <td>True</td>\n",
              "    </tr>\n",
              "  </tbody>\n",
              "</table>\n",
              "</div>"
            ],
            "text/plain": [
              "        fname        labels  is_valid\n",
              "0  000005.jpg         chair      True\n",
              "1  000007.jpg           car      True\n",
              "2  000009.jpg  horse person      True\n",
              "3  000012.jpg           car     False\n",
              "4  000016.jpg       bicycle      True"
            ]
          },
          "metadata": {
            "tags": []
          },
          "execution_count": 66
        }
      ]
    },
    {
      "cell_type": "code",
      "metadata": {
        "id": "ESeQAu0UIhEh",
        "colab_type": "code",
        "colab": {
          "base_uri": "https://localhost:8080/",
          "height": 221
        },
        "outputId": "76768967-5bf4-4365-d0e0-8501966fe0cb"
      },
      "source": [
        "# using pandas for manipulating dataframe\n",
        "\n",
        "df.iloc[:,1]"
      ],
      "execution_count": 67,
      "outputs": [
        {
          "output_type": "execute_result",
          "data": {
            "text/plain": [
              "0                chair\n",
              "1                  car\n",
              "2         horse person\n",
              "3                  car\n",
              "4              bicycle\n",
              "             ...      \n",
              "5006      horse person\n",
              "5007              boat\n",
              "5008    person bicycle\n",
              "5009               car\n",
              "5010               dog\n",
              "Name: labels, Length: 5011, dtype: object"
            ]
          },
          "metadata": {
            "tags": []
          },
          "execution_count": 67
        }
      ]
    },
    {
      "cell_type": "code",
      "metadata": {
        "id": "308O8fwJJNS8",
        "colab_type": "code",
        "colab": {
          "base_uri": "https://localhost:8080/",
          "height": 85
        },
        "outputId": "5c48d04a-4ce3-4fdb-bd1d-1d6e225475d7"
      },
      "source": [
        "df.iloc[0,:]"
      ],
      "execution_count": 68,
      "outputs": [
        {
          "output_type": "execute_result",
          "data": {
            "text/plain": [
              "fname       000005.jpg\n",
              "labels           chair\n",
              "is_valid          True\n",
              "Name: 0, dtype: object"
            ]
          },
          "metadata": {
            "tags": []
          },
          "execution_count": 68
        }
      ]
    },
    {
      "cell_type": "code",
      "metadata": {
        "id": "56GyVIvaJYQu",
        "colab_type": "code",
        "colab": {
          "base_uri": "https://localhost:8080/",
          "height": 85
        },
        "outputId": "ff091e28-cd0b-41bf-f546-2c32b19c6f04"
      },
      "source": [
        "df.iloc[0]"
      ],
      "execution_count": 69,
      "outputs": [
        {
          "output_type": "execute_result",
          "data": {
            "text/plain": [
              "fname       000005.jpg\n",
              "labels           chair\n",
              "is_valid          True\n",
              "Name: 0, dtype: object"
            ]
          },
          "metadata": {
            "tags": []
          },
          "execution_count": 69
        }
      ]
    },
    {
      "cell_type": "code",
      "metadata": {
        "id": "lSYnFoAUJeFj",
        "colab_type": "code",
        "colab": {
          "base_uri": "https://localhost:8080/",
          "height": 221
        },
        "outputId": "e8bbe476-8c95-46ad-fa23-38e048124a50"
      },
      "source": [
        "df['fname']"
      ],
      "execution_count": 70,
      "outputs": [
        {
          "output_type": "execute_result",
          "data": {
            "text/plain": [
              "0       000005.jpg\n",
              "1       000007.jpg\n",
              "2       000009.jpg\n",
              "3       000012.jpg\n",
              "4       000016.jpg\n",
              "           ...    \n",
              "5006    009954.jpg\n",
              "5007    009955.jpg\n",
              "5008    009958.jpg\n",
              "5009    009959.jpg\n",
              "5010    009961.jpg\n",
              "Name: fname, Length: 5011, dtype: object"
            ]
          },
          "metadata": {
            "tags": []
          },
          "execution_count": 70
        }
      ]
    },
    {
      "cell_type": "markdown",
      "metadata": {
        "id": "gSOs-LnQJyV3",
        "colab_type": "text"
      },
      "source": [
        "## Constructing a DataBlock"
      ]
    },
    {
      "cell_type": "code",
      "metadata": {
        "id": "dcPeoFZ8JjEb",
        "colab_type": "code",
        "colab": {}
      },
      "source": [
        "# datablock created with no parameter\n",
        "\n",
        "dblock = DataBlock()\n",
        "dsets = dblock.datasets(df)"
      ],
      "execution_count": 71,
      "outputs": []
    },
    {
      "cell_type": "code",
      "metadata": {
        "id": "nYp3HfqPMw7-",
        "colab_type": "code",
        "colab": {
          "base_uri": "https://localhost:8080/",
          "height": 34
        },
        "outputId": "c7ab4439-4782-4481-d54c-a84e4612863e"
      },
      "source": [
        "len(dsets.train)"
      ],
      "execution_count": 72,
      "outputs": [
        {
          "output_type": "execute_result",
          "data": {
            "text/plain": [
              "4009"
            ]
          },
          "metadata": {
            "tags": []
          },
          "execution_count": 72
        }
      ]
    },
    {
      "cell_type": "code",
      "metadata": {
        "id": "LMwXJlphM3E6",
        "colab_type": "code",
        "colab": {
          "base_uri": "https://localhost:8080/",
          "height": 136
        },
        "outputId": "df3e0d89-15da-43b3-bb92-c9d5e17e59c0"
      },
      "source": [
        "dsets.train[0]"
      ],
      "execution_count": 73,
      "outputs": [
        {
          "output_type": "execute_result",
          "data": {
            "text/plain": [
              "(fname       007483.jpg\n",
              " labels          person\n",
              " is_valid         False\n",
              " Name: 3775, dtype: object, fname       007483.jpg\n",
              " labels          person\n",
              " is_valid         False\n",
              " Name: 3775, dtype: object)"
            ]
          },
          "metadata": {
            "tags": []
          },
          "execution_count": 73
        }
      ]
    },
    {
      "cell_type": "code",
      "metadata": {
        "id": "8NztUtSnNGp7",
        "colab_type": "code",
        "colab": {
          "base_uri": "https://localhost:8080/",
          "height": 34
        },
        "outputId": "aeddfbff-fc25-4855-8665-c9b3930dc7d4"
      },
      "source": [
        "# grab appropriate field from the dataframe\n",
        "\n",
        "dblock = DataBlock(get_x =lambda r: r['fname'], get_y = lambda r: r['labels'])\n",
        "dsets = dblock.datasets(df)\n",
        "dsets.train[0]"
      ],
      "execution_count": 74,
      "outputs": [
        {
          "output_type": "execute_result",
          "data": {
            "text/plain": [
              "('002906.jpg', 'train')"
            ]
          },
          "metadata": {
            "tags": []
          },
          "execution_count": 74
        }
      ]
    },
    {
      "cell_type": "code",
      "metadata": {
        "id": "r8YfZdU7N6qi",
        "colab_type": "code",
        "colab": {}
      },
      "source": [
        "# using labmda expression, shortcut for defining and then referring to a function\n",
        "# great way for quickly iterating"
      ],
      "execution_count": 75,
      "outputs": []
    },
    {
      "cell_type": "code",
      "metadata": {
        "id": "ppZ4tI_XOHCl",
        "colab_type": "code",
        "colab": {
          "base_uri": "https://localhost:8080/",
          "height": 34
        },
        "outputId": "cb2f7865-0ade-415e-f76b-32673c256678"
      },
      "source": [
        "def get_x(r): return r['fname']\n",
        "def get_y(r): return r['labels']\n",
        "dblock = DataBlock(get_x = get_x, get_y = get_y)\n",
        "dsets = dblock.datasets(df)\n",
        "dsets.train[0]"
      ],
      "execution_count": 76,
      "outputs": [
        {
          "output_type": "execute_result",
          "data": {
            "text/plain": [
              "('009434.jpg', 'car person')"
            ]
          },
          "metadata": {
            "tags": []
          },
          "execution_count": 76
        }
      ]
    },
    {
      "cell_type": "code",
      "metadata": {
        "id": "q2EUb3OAOg1v",
        "colab_type": "code",
        "colab": {}
      },
      "source": [
        "# need independent variable as complete path, so that we can open it as an image\n",
        "# need dependent variable separated by a ' ' , space"
      ],
      "execution_count": 77,
      "outputs": []
    },
    {
      "cell_type": "code",
      "metadata": {
        "id": "yEqzUbWsPSVM",
        "colab_type": "code",
        "colab": {
          "base_uri": "https://localhost:8080/",
          "height": 34
        },
        "outputId": "ffa48543-2845-43f7-ba98-f2e95a6bf1d9"
      },
      "source": [
        "def get_x(r): return path/'train'/r['fname']\n",
        "def get_y(r): return r['labels'].split(' ')\n",
        "dblock = DataBlock(get_x = get_x, get_y = get_y)\n",
        "dsets = dblock.datasets(df)\n",
        "dsets.train[0]"
      ],
      "execution_count": 78,
      "outputs": [
        {
          "output_type": "execute_result",
          "data": {
            "text/plain": [
              "(Path('/root/.fastai/data/pascal_2007/train/001229.jpg'), ['bottle', 'person'])"
            ]
          },
          "metadata": {
            "tags": []
          },
          "execution_count": 78
        }
      ]
    },
    {
      "cell_type": "code",
      "metadata": {
        "id": "T-Xl4tvUPsFn",
        "colab_type": "code",
        "colab": {}
      },
      "source": [
        "# open image and do the conversion to tensors\n",
        "# create a function get_x to get the training file\n",
        "# create a function to extract the corresponding label and pass it to DataBlock\n"
      ],
      "execution_count": 79,
      "outputs": []
    },
    {
      "cell_type": "code",
      "metadata": {
        "id": "G1h5-PzZQdsK",
        "colab_type": "code",
        "colab": {
          "base_uri": "https://localhost:8080/",
          "height": 51
        },
        "outputId": "0a5dbb9d-098d-4746-a42c-100ebd6c6f9a"
      },
      "source": [
        "dblock = DataBlock(blocks=(ImageBlock, MultiCategoryBlock), get_x=get_x, get_y = get_y)\n",
        "dsets = dblock.datasets(df)\n",
        "dsets.train[0]"
      ],
      "execution_count": 80,
      "outputs": [
        {
          "output_type": "execute_result",
          "data": {
            "text/plain": [
              "(PILImage mode=RGB size=333x500,\n",
              " TensorMultiCategory([0., 0., 0., 0., 0., 0., 0., 0., 0., 0., 0., 1., 0., 0., 0., 0., 0., 0., 0., 0.]))"
            ]
          },
          "metadata": {
            "tags": []
          },
          "execution_count": 80
        }
      ]
    },
    {
      "cell_type": "code",
      "metadata": {
        "id": "lKR54TupZ-uO",
        "colab_type": "code",
        "colab": {
          "base_uri": "https://localhost:8080/",
          "height": 34
        },
        "outputId": "2f1da7df-fc36-4c10-db5f-9b7d5701ae8c"
      },
      "source": [
        "get_x"
      ],
      "execution_count": 81,
      "outputs": [
        {
          "output_type": "execute_result",
          "data": {
            "text/plain": [
              "<function __main__.get_x>"
            ]
          },
          "metadata": {
            "tags": []
          },
          "execution_count": 81
        }
      ]
    },
    {
      "cell_type": "code",
      "metadata": {
        "id": "cfFfZG-AQ44h",
        "colab_type": "code",
        "colab": {}
      },
      "source": [
        "idx = torch.where(dsets.train[0][1]==1.)[0]"
      ],
      "execution_count": 82,
      "outputs": []
    },
    {
      "cell_type": "code",
      "metadata": {
        "id": "K3ftiNRjTq96",
        "colab_type": "code",
        "colab": {
          "base_uri": "https://localhost:8080/",
          "height": 34
        },
        "outputId": "90cc6b37-39eb-47b2-9e63-9c7d780dbc51"
      },
      "source": [
        "dsets.train.vocab[idx]"
      ],
      "execution_count": 83,
      "outputs": [
        {
          "output_type": "execute_result",
          "data": {
            "text/plain": [
              "(#1) ['dog']"
            ]
          },
          "metadata": {
            "tags": []
          },
          "execution_count": 83
        }
      ]
    },
    {
      "cell_type": "code",
      "metadata": {
        "id": "ohJrj8MbT6wQ",
        "colab_type": "code",
        "colab": {}
      },
      "source": [
        "def splitter(df):\n",
        "  train = df.index[~df['is_valid']].tolist()\n",
        "  valid = df.index[df['is_valid']].tolist()\n",
        "  return train,valid"
      ],
      "execution_count": 84,
      "outputs": []
    },
    {
      "cell_type": "code",
      "metadata": {
        "id": "ynp_p8o0Uuvz",
        "colab_type": "code",
        "colab": {
          "base_uri": "https://localhost:8080/",
          "height": 51
        },
        "outputId": "9321542e-25c6-4500-a1ea-f16a0cd9af0b"
      },
      "source": [
        "dblock= DataBlock(blocks=(ImageBlock, MultiCategoryBlock),\n",
        "                  splitter= splitter,\n",
        "                  get_x = get_x,\n",
        "                  get_y = get_y)\n",
        "dsets = dblock.datasets(df)\n",
        "dsets.train[0]"
      ],
      "execution_count": 85,
      "outputs": [
        {
          "output_type": "execute_result",
          "data": {
            "text/plain": [
              "(PILImage mode=RGB size=500x333,\n",
              " TensorMultiCategory([0., 0., 0., 0., 0., 0., 1., 0., 0., 0., 0., 0., 0., 0., 0., 0., 0., 0., 0., 0.]))"
            ]
          },
          "metadata": {
            "tags": []
          },
          "execution_count": 85
        }
      ]
    },
    {
      "cell_type": "code",
      "metadata": {
        "id": "AwO93599VESM",
        "colab_type": "code",
        "colab": {
          "base_uri": "https://localhost:8080/",
          "height": 51
        },
        "outputId": "17d51e5a-a4a9-409b-82aa-207a93ae118f"
      },
      "source": [
        "dsets.valid[0]"
      ],
      "execution_count": 86,
      "outputs": [
        {
          "output_type": "execute_result",
          "data": {
            "text/plain": [
              "(PILImage mode=RGB size=500x375,\n",
              " TensorMultiCategory([0., 0., 0., 0., 0., 0., 0., 0., 1., 0., 0., 0., 0., 0., 0., 0., 0., 0., 0., 0.]))"
            ]
          },
          "metadata": {
            "tags": []
          },
          "execution_count": 86
        }
      ]
    },
    {
      "cell_type": "code",
      "metadata": {
        "id": "6qAjdRt3VOpr",
        "colab_type": "code",
        "colab": {}
      },
      "source": [
        "# create dataloaders to ensure every item are of the same size"
      ],
      "execution_count": 87,
      "outputs": []
    },
    {
      "cell_type": "code",
      "metadata": {
        "id": "fj3fnEMUV27o",
        "colab_type": "code",
        "colab": {}
      },
      "source": [
        "dblock = DataBlock(blocks = (ImageBlock, MultiCategoryBlock),\n",
        "                   splitter = splitter,\n",
        "                   get_x = get_x,\n",
        "                   get_y = get_y,\n",
        "                   item_tfms = RandomResizedCrop(128, min_scale=0.35))\n",
        "\n",
        "dls = dblock.dataloaders(df)\n"
      ],
      "execution_count": 88,
      "outputs": []
    },
    {
      "cell_type": "code",
      "metadata": {
        "id": "IdROEwUbWeRB",
        "colab_type": "code",
        "colab": {}
      },
      "source": [
        "#dls.show_batch(nrows=1,ncols=3);"
      ],
      "execution_count": 89,
      "outputs": []
    },
    {
      "cell_type": "markdown",
      "metadata": {
        "id": "QN5r3T6UXVi8",
        "colab_type": "text"
      },
      "source": [
        "## Create a Learner"
      ]
    },
    {
      "cell_type": "code",
      "metadata": {
        "id": "Yey5h-NNWpQQ",
        "colab_type": "code",
        "colab": {}
      },
      "source": [
        "# a learner object contains four main thing: a model,a dataloaders object, an optimizer and the loss function. "
      ],
      "execution_count": 90,
      "outputs": []
    },
    {
      "cell_type": "code",
      "metadata": {
        "id": "2kcaXLwFXrgd",
        "colab_type": "code",
        "colab": {}
      },
      "source": [
        "# you have to move the weights(model) to the gpu as well using model.cuda() \n",
        "learn = cnn_learner(dls, resnet18)\n",
        "learn.model.cuda()"
      ],
      "execution_count": null,
      "outputs": []
    },
    {
      "cell_type": "code",
      "metadata": {
        "id": "wDXOhPXfXwpi",
        "colab_type": "code",
        "colab": {}
      },
      "source": [
        "x,y = dls.train.one_batch()\n"
      ],
      "execution_count": 92,
      "outputs": []
    },
    {
      "cell_type": "code",
      "metadata": {
        "id": "Y6fAJq1yYnIg",
        "colab_type": "code",
        "colab": {}
      },
      "source": [
        "activs = learn.model(x)\n"
      ],
      "execution_count": 93,
      "outputs": []
    },
    {
      "cell_type": "code",
      "metadata": {
        "id": "d2jU_AjyZtaJ",
        "colab_type": "code",
        "colab": {
          "base_uri": "https://localhost:8080/",
          "height": 71
        },
        "outputId": "b8821ac7-f386-4f52-dcb4-b7657631cb5c"
      },
      "source": [
        "activs[0]"
      ],
      "execution_count": 94,
      "outputs": [
        {
          "output_type": "execute_result",
          "data": {
            "text/plain": [
              "tensor([-2.0879, -1.5919, -1.4272, -4.5369,  2.7062,  0.4795, -0.4433,  1.9418,  0.6670,  1.4046, -1.5738,  0.0294, -1.0615, -0.6311,  0.0783, -0.3345, -1.0094,  2.4729, -2.5334, -2.2094],\n",
              "       device='cuda:0', grad_fn=<SelectBackward>)"
            ]
          },
          "metadata": {
            "tags": []
          },
          "execution_count": 94
        }
      ]
    },
    {
      "cell_type": "code",
      "metadata": {
        "id": "_aqg7Bu2bHfW",
        "colab_type": "code",
        "colab": {}
      },
      "source": [
        "# defining a loss function\n",
        "\n",
        "def binary_cross_entropy(inputs, targets):\n",
        "  inputs = inputs.sigmoid()\n",
        "  return -torch.where(targets==1, inputs, 1-inputs).log().mean()"
      ],
      "execution_count": 96,
      "outputs": []
    },
    {
      "cell_type": "code",
      "metadata": {
        "id": "mQm_Sl7ejqDo",
        "colab_type": "code",
        "colab": {
          "base_uri": "https://localhost:8080/",
          "height": 34
        },
        "outputId": "159b5438-4550-49d9-c789-73d78b370fe6"
      },
      "source": [
        "# this is available in PyTorch\n",
        "\n",
        "loss_func = nn.BCEWithLogitsLoss()\n",
        "loss = loss_func(activs,y)\n",
        "loss"
      ],
      "execution_count": 97,
      "outputs": [
        {
          "output_type": "execute_result",
          "data": {
            "text/plain": [
              "tensor(1.0619, device='cuda:0', grad_fn=<BinaryCrossEntropyWithLogitsBackward>)"
            ]
          },
          "metadata": {
            "tags": []
          },
          "execution_count": 97
        }
      ]
    },
    {
      "cell_type": "markdown",
      "metadata": {
        "id": "BqYzTTIyk5ez",
        "colab_type": "text"
      },
      "source": [
        "## Accuracy for multiple labels"
      ]
    },
    {
      "cell_type": "code",
      "metadata": {
        "id": "sNIo_EBck5CF",
        "colab_type": "code",
        "colab": {}
      },
      "source": [
        "# after applying the sigmoid to our activation function, we need to decide which ones are 0 and which are 1 by picking the threshold.\n",
        "# each value above the threshold will be considered as 1 and rest will be 0"
      ],
      "execution_count": 98,
      "outputs": []
    },
    {
      "cell_type": "code",
      "metadata": {
        "id": "92dFlo4ukTCH",
        "colab_type": "code",
        "colab": {}
      },
      "source": [
        "def accu_multi(inp, targ, thres=0.5, sigmoid=True):\n",
        "  \" compute accuracy when `input` and `target` are the same size\"\n",
        "  if sigmoid: inp = inp.sigmoid()\n",
        "  return ((inp>thres)==targ.bool()).float().mean()"
      ],
      "execution_count": 99,
      "outputs": []
    },
    {
      "cell_type": "code",
      "metadata": {
        "id": "iuF01oDMl0DW",
        "colab_type": "code",
        "colab": {}
      },
      "source": [
        "# can modify the function using partial to replace the default argument"
      ],
      "execution_count": 100,
      "outputs": []
    },
    {
      "cell_type": "code",
      "metadata": {
        "id": "y0RdjrbHmUCY",
        "colab_type": "code",
        "colab": {
          "base_uri": "https://localhost:8080/",
          "height": 34
        },
        "outputId": "14e8dac3-4b5f-4612-e8bc-bc4c54814deb"
      },
      "source": [
        "def say_hello(name, say_what='Hello'): return f\"{say_what} {name}.\"\n",
        "\n",
        "say_hello('aayush'), say_hello('Aayush','Ahoy!')\n"
      ],
      "execution_count": 102,
      "outputs": [
        {
          "output_type": "execute_result",
          "data": {
            "text/plain": [
              "('Hello aayush.', 'Ahoy! Aayush.')"
            ]
          },
          "metadata": {
            "tags": []
          },
          "execution_count": 102
        }
      ]
    },
    {
      "cell_type": "code",
      "metadata": {
        "id": "BfqV3-Agm3XW",
        "colab_type": "code",
        "colab": {
          "base_uri": "https://localhost:8080/",
          "height": 35
        },
        "outputId": "eafabe64-4e05-4bc4-aa13-25e4f51c48b7"
      },
      "source": [
        "# switch to frech version using partial\n",
        "\n",
        "f = partial(say_hello, say_what='bojour')\n",
        "f('Aayush')"
      ],
      "execution_count": 103,
      "outputs": [
        {
          "output_type": "execute_result",
          "data": {
            "application/vnd.google.colaboratory.intrinsic+json": {
              "type": "string"
            },
            "text/plain": [
              "'bojour Aayush.'"
            ]
          },
          "metadata": {
            "tags": []
          },
          "execution_count": 103
        }
      ]
    },
    {
      "cell_type": "markdown",
      "metadata": {
        "id": "3M2tuDAgoVex",
        "colab_type": "text"
      },
      "source": [
        "## Train our Model"
      ]
    },
    {
      "cell_type": "code",
      "metadata": {
        "id": "bY4jNw-snRxn",
        "colab_type": "code",
        "colab": {
          "base_uri": "https://localhost:8080/",
          "height": 364,
          "referenced_widgets": [
            "434b4b88948340c2bbb496ff92450e71",
            "a7c33bc4bfe2443ba6af4ee98886c56d",
            "65fc30ea6a5744cfb7aec99bb5061319",
            "c7d71c7bd2b54ab9b665e388b3318b64",
            "9b7d08ef5c5d4e70b2f81220c78101ca",
            "e5ce1f2a5d6549158e20ac4b94cf3101",
            "7c8f217a563f46c6b4ac1a6c1323dd4a",
            "416a2335d650482eb2509e96942dcac9"
          ]
        },
        "outputId": "b72b8995-dca5-4dfb-f8ba-67539b5c3909"
      },
      "source": [
        "learn = cnn_learner(dls,resnet50, metrics=partial(accu_multi, thres=0.2))\n",
        "learn.fine_tune(3, base_lr=3e-3,freeze_epochs=4)"
      ],
      "execution_count": 104,
      "outputs": [
        {
          "output_type": "stream",
          "text": [
            "Downloading: \"https://download.pytorch.org/models/resnet50-19c8e357.pth\" to /root/.cache/torch/hub/checkpoints/resnet50-19c8e357.pth\n"
          ],
          "name": "stderr"
        },
        {
          "output_type": "display_data",
          "data": {
            "application/vnd.jupyter.widget-view+json": {
              "model_id": "434b4b88948340c2bbb496ff92450e71",
              "version_minor": 0,
              "version_major": 2
            },
            "text/plain": [
              "HBox(children=(FloatProgress(value=0.0, max=102502400.0), HTML(value='')))"
            ]
          },
          "metadata": {
            "tags": []
          }
        },
        {
          "output_type": "stream",
          "text": [
            "\n"
          ],
          "name": "stdout"
        },
        {
          "output_type": "display_data",
          "data": {
            "text/html": [
              "<table border=\"1\" class=\"dataframe\">\n",
              "  <thead>\n",
              "    <tr style=\"text-align: left;\">\n",
              "      <th>epoch</th>\n",
              "      <th>train_loss</th>\n",
              "      <th>valid_loss</th>\n",
              "      <th>accu_multi</th>\n",
              "      <th>time</th>\n",
              "    </tr>\n",
              "  </thead>\n",
              "  <tbody>\n",
              "    <tr>\n",
              "      <td>0</td>\n",
              "      <td>0.940375</td>\n",
              "      <td>0.702412</td>\n",
              "      <td>0.226235</td>\n",
              "      <td>00:29</td>\n",
              "    </tr>\n",
              "    <tr>\n",
              "      <td>1</td>\n",
              "      <td>0.819242</td>\n",
              "      <td>0.554809</td>\n",
              "      <td>0.291275</td>\n",
              "      <td>00:29</td>\n",
              "    </tr>\n",
              "    <tr>\n",
              "      <td>2</td>\n",
              "      <td>0.597309</td>\n",
              "      <td>0.206544</td>\n",
              "      <td>0.807530</td>\n",
              "      <td>00:28</td>\n",
              "    </tr>\n",
              "    <tr>\n",
              "      <td>3</td>\n",
              "      <td>0.357017</td>\n",
              "      <td>0.126045</td>\n",
              "      <td>0.941275</td>\n",
              "      <td>00:28</td>\n",
              "    </tr>\n",
              "  </tbody>\n",
              "</table>"
            ],
            "text/plain": [
              "<IPython.core.display.HTML object>"
            ]
          },
          "metadata": {
            "tags": []
          }
        },
        {
          "output_type": "display_data",
          "data": {
            "text/html": [
              "<table border=\"1\" class=\"dataframe\">\n",
              "  <thead>\n",
              "    <tr style=\"text-align: left;\">\n",
              "      <th>epoch</th>\n",
              "      <th>train_loss</th>\n",
              "      <th>valid_loss</th>\n",
              "      <th>accu_multi</th>\n",
              "      <th>time</th>\n",
              "    </tr>\n",
              "  </thead>\n",
              "  <tbody>\n",
              "    <tr>\n",
              "      <td>0</td>\n",
              "      <td>0.131384</td>\n",
              "      <td>0.121592</td>\n",
              "      <td>0.934920</td>\n",
              "      <td>00:29</td>\n",
              "    </tr>\n",
              "    <tr>\n",
              "      <td>1</td>\n",
              "      <td>0.118849</td>\n",
              "      <td>0.110005</td>\n",
              "      <td>0.951255</td>\n",
              "      <td>00:28</td>\n",
              "    </tr>\n",
              "    <tr>\n",
              "      <td>2</td>\n",
              "      <td>0.098752</td>\n",
              "      <td>0.103116</td>\n",
              "      <td>0.949641</td>\n",
              "      <td>00:28</td>\n",
              "    </tr>\n",
              "  </tbody>\n",
              "</table>"
            ],
            "text/plain": [
              "<IPython.core.display.HTML object>"
            ]
          },
          "metadata": {
            "tags": []
          }
        }
      ]
    },
    {
      "cell_type": "code",
      "metadata": {
        "id": "8yAxQ7Vtor99",
        "colab_type": "code",
        "colab": {
          "base_uri": "https://localhost:8080/",
          "height": 34
        },
        "outputId": "4d32deb4-ab71-4621-9d5b-1abbed54ab10"
      },
      "source": [
        "learn.metrics = partial(accu_multi, thres=0.1) # if threshold is too low, fail to select correcly labeled object\n",
        "learn.validate()"
      ],
      "execution_count": 105,
      "outputs": [
        {
          "output_type": "display_data",
          "data": {
            "text/html": [
              ""
            ],
            "text/plain": [
              "<IPython.core.display.HTML object>"
            ]
          },
          "metadata": {
            "tags": []
          }
        },
        {
          "output_type": "execute_result",
          "data": {
            "text/plain": [
              "(#2) [0.10311601310968399,0.9276294112205505]"
            ]
          },
          "metadata": {
            "tags": []
          },
          "execution_count": 105
        }
      ]
    },
    {
      "cell_type": "code",
      "metadata": {
        "id": "9osqBpm0p-a4",
        "colab_type": "code",
        "colab": {
          "base_uri": "https://localhost:8080/",
          "height": 34
        },
        "outputId": "686e3837-16ab-4afa-fbb2-fcb198531ca8"
      },
      "source": [
        "# if you set threshold to be very high, we will see only those objects about which the model is very confident\n",
        "\n",
        "learn.metrics = partial(accu_multi, thres=0.99) \n",
        "learn.validate()\n"
      ],
      "execution_count": 106,
      "outputs": [
        {
          "output_type": "display_data",
          "data": {
            "text/html": [
              ""
            ],
            "text/plain": [
              "<IPython.core.display.HTML object>"
            ]
          },
          "metadata": {
            "tags": []
          }
        },
        {
          "output_type": "execute_result",
          "data": {
            "text/plain": [
              "(#2) [0.10311601310968399,0.9426095485687256]"
            ]
          },
          "metadata": {
            "tags": []
          },
          "execution_count": 106
        }
      ]
    },
    {
      "cell_type": "code",
      "metadata": {
        "id": "KgCTjDXqqbVq",
        "colab_type": "code",
        "colab": {
          "base_uri": "https://localhost:8080/",
          "height": 17
        },
        "outputId": "33957039-c73c-4c91-b7a9-b10d7dcf3e64"
      },
      "source": [
        "preds, targs = learn.get_preds()"
      ],
      "execution_count": 107,
      "outputs": [
        {
          "output_type": "display_data",
          "data": {
            "text/html": [
              ""
            ],
            "text/plain": [
              "<IPython.core.display.HTML object>"
            ]
          },
          "metadata": {
            "tags": []
          }
        }
      ]
    },
    {
      "cell_type": "code",
      "metadata": {
        "id": "uh0JL7fdsj64",
        "colab_type": "code",
        "colab": {
          "base_uri": "https://localhost:8080/",
          "height": 34
        },
        "outputId": "d6562d87-5bc9-4efa-ae9d-e9fb49a79642"
      },
      "source": [
        "accuracy_multi(preds, targs, thresh = 0.9, sigmoid=False)"
      ],
      "execution_count": 108,
      "outputs": [
        {
          "output_type": "execute_result",
          "data": {
            "text/plain": [
              "tensor(0.9562)"
            ]
          },
          "metadata": {
            "tags": []
          },
          "execution_count": 108
        }
      ]
    },
    {
      "cell_type": "code",
      "metadata": {
        "id": "m3lGUNiptEAE",
        "colab_type": "code",
        "colab": {
          "base_uri": "https://localhost:8080/",
          "height": 265
        },
        "outputId": "04ed1cb6-ab52-421d-8525-dd040d67cdcc"
      },
      "source": [
        "# use this approach to find best accuracy level\n",
        "\n",
        "xs = torch.linspace(0.05,0.95,29)\n",
        "accs = [accu_multi(preds, targs, i, False) for i in xs]\n",
        "plt.plot(xs,accs);"
      ],
      "execution_count": 110,
      "outputs": [
        {
          "output_type": "display_data",
          "data": {
            "image/png": "[encoded data removed]",
            "text/plain": [
              "<Figure size 432x288 with 1 Axes>"
            ]
          },
          "metadata": {
            "tags": [],
            "needs_background": "light"
          }
        }
      ]
    },
    {
      "cell_type": "code",
      "metadata": {
        "id": "Q5p3N_totguV",
        "colab_type": "code",
        "colab": {}
      },
      "source": [
        ""
      ],
      "execution_count": null,
      "outputs": []
    }
  ]
}