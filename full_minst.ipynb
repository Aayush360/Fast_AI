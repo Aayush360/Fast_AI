{
  "nbformat": 4,
  "nbformat_minor": 0,
  "metadata": {
    "colab": {
      "name": "full_minst.ipynb",
      "provenance": [],
      "authorship_tag": "ABX9TyM/SJdFqriScEFAkay7BoTA",
      "include_colab_link": true
    },
    "kernelspec": {
      "name": "python3",
      "display_name": "Python 3"
    },
    "accelerator": "GPU"
  },
  "cells": [
    {
      "cell_type": "markdown",
      "metadata": {
        "id": "view-in-github",
        "colab_type": "text"
      },
      "source": [
        "<a href=\"https://colab.research.google.com/github/Aayush360/Fast_AI/blob/master/full_minst.ipynb\" target=\"_parent\"><img src=\"https://colab.research.google.com/assets/colab-badge.svg\" alt=\"Open In Colab\"/></a>"
      ]
    },
    {
      "cell_type": "markdown",
      "metadata": {
        "id": "a5quFANP687n",
        "colab_type": "text"
      },
      "source": [
        "## Notebook imports and Setting the training data"
      ]
    },
    {
      "cell_type": "code",
      "metadata": {
        "id": "SEG9ZB-dsKu-",
        "colab_type": "code",
        "colab": {}
      },
      "source": [
        "#hide\n",
        "!pip install fastai --upgrade\n",
        "!pip install -Uqq fastbook\n",
        "import fastbook\n",
        "fastbook.setup_book()"
      ],
      "execution_count": null,
      "outputs": []
    },
    {
      "cell_type": "code",
      "metadata": {
        "id": "LUvhGcCgsUXh",
        "colab_type": "code",
        "colab": {}
      },
      "source": [
        "#hide\n",
        "from fastbook import *\n",
        "from fastai.vision.widgets import *"
      ],
      "execution_count": 2,
      "outputs": []
    },
    {
      "cell_type": "markdown",
      "metadata": {
        "id": "gpPVnfULss0G",
        "colab_type": "text"
      },
      "source": [
        "## Implementing the model baseline"
      ]
    },
    {
      "cell_type": "code",
      "metadata": {
        "id": "GFbaP2-1srbU",
        "colab_type": "code",
        "colab": {
          "base_uri": "https://localhost:8080/",
          "height": 17
        },
        "outputId": "e929258e-2516-48a2-91c6-418d3909662e"
      },
      "source": [
        "path = untar_data(URLs.MNIST)"
      ],
      "execution_count": 3,
      "outputs": [
        {
          "output_type": "display_data",
          "data": {
            "text/html": [
              ""
            ],
            "text/plain": [
              "<IPython.core.display.HTML object>"
            ]
          },
          "metadata": {
            "tags": []
          }
        }
      ]
    },
    {
      "cell_type": "code",
      "metadata": {
        "id": "_7tP1uejs4Bd",
        "colab_type": "code",
        "colab": {
          "base_uri": "https://localhost:8080/",
          "height": 34
        },
        "outputId": "75b33863-9eac-46aa-ef5d-2d431064e150"
      },
      "source": [
        "path.ls()"
      ],
      "execution_count": 4,
      "outputs": [
        {
          "output_type": "execute_result",
          "data": {
            "text/plain": [
              "(#2) [Path('/root/.fastai/data/mnist_png/training'),Path('/root/.fastai/data/mnist_png/testing')]"
            ]
          },
          "metadata": {
            "tags": []
          },
          "execution_count": 4
        }
      ]
    },
    {
      "cell_type": "code",
      "metadata": {
        "id": "hJy_B8BHs8Gi",
        "colab_type": "code",
        "colab": {
          "base_uri": "https://localhost:8080/",
          "height": 54
        },
        "outputId": "3c37890d-e0a6-4fd8-97c3-339428ccff5e"
      },
      "source": [
        "(path/'training'/'3').ls()"
      ],
      "execution_count": 5,
      "outputs": [
        {
          "output_type": "execute_result",
          "data": {
            "text/plain": [
              "(#6131) [Path('/root/.fastai/data/mnist_png/training/3/32799.png'),Path('/root/.fastai/data/mnist_png/training/3/22578.png'),Path('/root/.fastai/data/mnist_png/training/3/5980.png'),Path('/root/.fastai/data/mnist_png/training/3/44609.png'),Path('/root/.fastai/data/mnist_png/training/3/33772.png'),Path('/root/.fastai/data/mnist_png/training/3/8537.png'),Path('/root/.fastai/data/mnist_png/training/3/57474.png'),Path('/root/.fastai/data/mnist_png/training/3/25282.png'),Path('/root/.fastai/data/mnist_png/training/3/45273.png'),Path('/root/.fastai/data/mnist_png/training/3/22413.png')...]"
            ]
          },
          "metadata": {
            "tags": []
          },
          "execution_count": 5
        }
      ]
    },
    {
      "cell_type": "code",
      "metadata": {
        "id": "c95Y-BXktFaM",
        "colab_type": "code",
        "colab": {
          "base_uri": "https://localhost:8080/",
          "height": 102
        },
        "outputId": "4987acf8-7156-4097-863f-ea7ccb801ca5"
      },
      "source": [
        "fns = {i: [fn for fn in (path/'training'/f'{i}').ls()] for i in range(10)}\n",
        "fns[1][:5]  # look at the first 5 filename in folder 1"
      ],
      "execution_count": 6,
      "outputs": [
        {
          "output_type": "execute_result",
          "data": {
            "text/plain": [
              "[Path('/root/.fastai/data/mnist_png/training/1/30068.png'),\n",
              " Path('/root/.fastai/data/mnist_png/training/1/7761.png'),\n",
              " Path('/root/.fastai/data/mnist_png/training/1/35345.png'),\n",
              " Path('/root/.fastai/data/mnist_png/training/1/30089.png'),\n",
              " Path('/root/.fastai/data/mnist_png/training/1/9622.png')]"
            ]
          },
          "metadata": {
            "tags": []
          },
          "execution_count": 6
        }
      ]
    },
    {
      "cell_type": "code",
      "metadata": {
        "id": "oo8YRx4ctzIb",
        "colab_type": "code",
        "colab": {}
      },
      "source": [
        "# open the image and converted it to tensor"
      ],
      "execution_count": 7,
      "outputs": []
    },
    {
      "cell_type": "code",
      "metadata": {
        "id": "ih0casiBuLtD",
        "colab_type": "code",
        "colab": {}
      },
      "source": [
        "img_tensors = {key: [tensor(Image.open(pat)) for pat in paths] for (key,paths) in fns.items()}"
      ],
      "execution_count": 8,
      "outputs": []
    },
    {
      "cell_type": "code",
      "metadata": {
        "id": "3clVeqkLu6Fm",
        "colab_type": "code",
        "colab": {
          "base_uri": "https://localhost:8080/",
          "height": 153
        },
        "outputId": "27794cb5-d8d0-4969-80aa-1f06dfa560a0"
      },
      "source": [
        "img_tensors[5][1][20:50, 10:15]"
      ],
      "execution_count": 9,
      "outputs": [
        {
          "output_type": "execute_result",
          "data": {
            "text/plain": [
              "tensor([[252, 133,  30,  30, 119],\n",
              "        [252, 252, 252, 252, 252],\n",
              "        [252, 252, 252, 252, 252],\n",
              "        [252, 252, 252, 252, 252],\n",
              "        [121, 252, 252, 252, 252],\n",
              "        [  0,   0,   0,   0,   0],\n",
              "        [  0,   0,   0,   0,   0],\n",
              "        [  0,   0,   0,   0,   0]], dtype=torch.uint8)"
            ]
          },
          "metadata": {
            "tags": []
          },
          "execution_count": 9
        }
      ]
    },
    {
      "cell_type": "code",
      "metadata": {
        "id": "AOwPxzdMxeQt",
        "colab_type": "code",
        "colab": {
          "base_uri": "https://localhost:8080/",
          "height": 102
        },
        "outputId": "dda7a8af-f63e-4845-fe79-11d3bcb9fb2a"
      },
      "source": [
        "show_image(img_tensors[5][1])"
      ],
      "execution_count": 10,
      "outputs": [
        {
          "output_type": "execute_result",
          "data": {
            "text/plain": [
              "<matplotlib.axes._subplots.AxesSubplot at 0x7f50dee2be10>"
            ]
          },
          "metadata": {
            "tags": []
          },
          "execution_count": 10
        },
        {
          "output_type": "display_data",
          "data": {
            "image/png": "[encoded data removed]",
            "text/plain": [
              "<Figure size 72x72 with 1 Axes>"
            ]
          },
          "metadata": {
            "tags": [],
            "needs_background": "light"
          }
        }
      ]
    },
    {
      "cell_type": "code",
      "metadata": {
        "id": "rq63H5RAxreY",
        "colab_type": "code",
        "colab": {}
      },
      "source": [
        "# stack the tensors, convert them to float and normalize the pixels"
      ],
      "execution_count": 11,
      "outputs": []
    },
    {
      "cell_type": "code",
      "metadata": {
        "id": "H-KKXejdyDk0",
        "colab_type": "code",
        "colab": {}
      },
      "source": [
        "stacked_tensors = {key: torch.stack(img).float()/255 for (key,img) in img_tensors.items()}"
      ],
      "execution_count": 12,
      "outputs": []
    },
    {
      "cell_type": "code",
      "metadata": {
        "id": "bu-HQtGJyZMc",
        "colab_type": "code",
        "colab": {
          "base_uri": "https://localhost:8080/",
          "height": 187
        },
        "outputId": "9ee0f274-d4cf-4ce6-b21f-8d56b427277e"
      },
      "source": [
        "# to check the shape of each stacked_tensors\n",
        "\n",
        "for k,v in stacked_tensors.items(): print(f'{k} shape is: {v.shape}')"
      ],
      "execution_count": 13,
      "outputs": [
        {
          "output_type": "stream",
          "text": [
            "0 shape is: torch.Size([5923, 28, 28])\n",
            "1 shape is: torch.Size([6742, 28, 28])\n",
            "2 shape is: torch.Size([5958, 28, 28])\n",
            "3 shape is: torch.Size([6131, 28, 28])\n",
            "4 shape is: torch.Size([5842, 28, 28])\n",
            "5 shape is: torch.Size([5421, 28, 28])\n",
            "6 shape is: torch.Size([5918, 28, 28])\n",
            "7 shape is: torch.Size([6265, 28, 28])\n",
            "8 shape is: torch.Size([5851, 28, 28])\n",
            "9 shape is: torch.Size([5949, 28, 28])\n"
          ],
          "name": "stdout"
        }
      ]
    },
    {
      "cell_type": "code",
      "metadata": {
        "id": "YQMMHneMyhlW",
        "colab_type": "code",
        "colab": {}
      },
      "source": [
        "# calculate the mean for each tensors:\n",
        "\n",
        "mean_tensors = {key: items.mean(0) for (key,items) in stacked_tensors.items()}"
      ],
      "execution_count": 14,
      "outputs": []
    },
    {
      "cell_type": "code",
      "metadata": {
        "id": "mEG1L2B91u_t",
        "colab_type": "code",
        "colab": {
          "base_uri": "https://localhost:8080/",
          "height": 139
        },
        "outputId": "430f6b0f-8a13-4d39-9790-c3e68b69d4da"
      },
      "source": [
        "show_images(list(mean_tensors.values()))"
      ],
      "execution_count": 15,
      "outputs": [
        {
          "output_type": "display_data",
          "data": {
            "image/png": "[encoded data removed]",
            "text/plain": [
              "<Figure size 2160x216 with 10 Axes>"
            ]
          },
          "metadata": {
            "tags": [],
            "needs_background": "light"
          }
        }
      ]
    },
    {
      "cell_type": "code",
      "metadata": {
        "id": "pTtLw2s51wmP",
        "colab_type": "code",
        "colab": {}
      },
      "source": [
        "# calculate the similarity between sample image and the ideal image"
      ],
      "execution_count": 16,
      "outputs": []
    },
    {
      "cell_type": "code",
      "metadata": {
        "id": "Q0rfoPIz2jKT",
        "colab_type": "code",
        "colab": {
          "base_uri": "https://localhost:8080/",
          "height": 85
        },
        "outputId": "5024a37f-23a8-4469-a920-38dee7990c63"
      },
      "source": [
        "sample_0 = stacked_tensors[0][1]\n",
        "show_image(sample_0);"
      ],
      "execution_count": 17,
      "outputs": [
        {
          "output_type": "display_data",
          "data": {
            "image/png": "[encoded data removed]",
            "text/plain": [
              "<Figure size 72x72 with 1 Axes>"
            ]
          },
          "metadata": {
            "tags": [],
            "needs_background": "light"
          }
        }
      ]
    },
    {
      "cell_type": "code",
      "metadata": {
        "id": "iUacIVCQ2mZl",
        "colab_type": "code",
        "colab": {}
      },
      "source": [
        "# calculate the mean absolute error and root mean squared error"
      ],
      "execution_count": 18,
      "outputs": []
    },
    {
      "cell_type": "code",
      "metadata": {
        "id": "d7kwbwez3H8q",
        "colab_type": "code",
        "colab": {
          "base_uri": "https://localhost:8080/",
          "height": 204
        },
        "outputId": "bac0f5a3-2480-4d67-8180-982846603893"
      },
      "source": [
        "print(' '*3+'MAE  RMSE')\n",
        "for key,mean in mean_tensors.items():\n",
        "  dist_mae = (sample_0-mean).abs().mean()\n",
        "  dist_rmse = ((sample_0-mean)**2).mean().sqrt()\n",
        "  print(f'{key}: {dist_mae: .4f} {dist_rmse:.4f}')"
      ],
      "execution_count": 19,
      "outputs": [
        {
          "output_type": "stream",
          "text": [
            "   MAE  RMSE\n",
            "0:  0.1496 0.2603\n",
            "1:  0.1944 0.3783\n",
            "2:  0.2064 0.3469\n",
            "3:  0.2193 0.3709\n",
            "4:  0.1910 0.3443\n",
            "5:  0.1855 0.3227\n",
            "6:  0.1811 0.3229\n",
            "7:  0.1846 0.3403\n",
            "8:  0.2126 0.3629\n",
            "9:  0.1932 0.3492\n"
          ],
          "name": "stdout"
        }
      ]
    },
    {
      "cell_type": "markdown",
      "metadata": {
        "id": "EqmzizKa4duH",
        "colab_type": "text"
      },
      "source": [
        "## Prepare Validation Set"
      ]
    },
    {
      "cell_type": "code",
      "metadata": {
        "id": "L4UH9-4C3Lsx",
        "colab_type": "code",
        "colab": {
          "base_uri": "https://localhost:8080/",
          "height": 54
        },
        "outputId": "2227c61d-bc29-4a71-8075-2b1e58422b9e"
      },
      "source": [
        "(path/'testing').ls()"
      ],
      "execution_count": 20,
      "outputs": [
        {
          "output_type": "execute_result",
          "data": {
            "text/plain": [
              "(#10) [Path('/root/.fastai/data/mnist_png/testing/3'),Path('/root/.fastai/data/mnist_png/testing/1'),Path('/root/.fastai/data/mnist_png/testing/9'),Path('/root/.fastai/data/mnist_png/testing/2'),Path('/root/.fastai/data/mnist_png/testing/8'),Path('/root/.fastai/data/mnist_png/testing/5'),Path('/root/.fastai/data/mnist_png/testing/7'),Path('/root/.fastai/data/mnist_png/testing/0'),Path('/root/.fastai/data/mnist_png/testing/6'),Path('/root/.fastai/data/mnist_png/testing/4')]"
            ]
          },
          "metadata": {
            "tags": []
          },
          "execution_count": 20
        }
      ]
    },
    {
      "cell_type": "code",
      "metadata": {
        "id": "ncB91Vfq9Rvd",
        "colab_type": "code",
        "colab": {}
      },
      "source": [
        "valid_fns={i: [fn for fn in (path/'testing'/f'{i}').ls()] for i in range(10)}\n",
        "valid_stacked_tensor = {key: torch.stack([tensor(Image.open(path)) for path in paths]).float()/255 for(key,paths) in valid_fns.items()}"
      ],
      "execution_count": 21,
      "outputs": []
    },
    {
      "cell_type": "code",
      "metadata": {
        "id": "UK4xqjyD9jRP",
        "colab_type": "code",
        "colab": {
          "base_uri": "https://localhost:8080/",
          "height": 187
        },
        "outputId": "e4538b25-fe8f-49ab-e9a2-64c85ce91459"
      },
      "source": [
        "for k,v in valid_stacked_tensor.items(): print(f'{k}: shape is: {v.shape}')"
      ],
      "execution_count": 22,
      "outputs": [
        {
          "output_type": "stream",
          "text": [
            "0: shape is: torch.Size([980, 28, 28])\n",
            "1: shape is: torch.Size([1135, 28, 28])\n",
            "2: shape is: torch.Size([1032, 28, 28])\n",
            "3: shape is: torch.Size([1010, 28, 28])\n",
            "4: shape is: torch.Size([982, 28, 28])\n",
            "5: shape is: torch.Size([892, 28, 28])\n",
            "6: shape is: torch.Size([958, 28, 28])\n",
            "7: shape is: torch.Size([1028, 28, 28])\n",
            "8: shape is: torch.Size([974, 28, 28])\n",
            "9: shape is: torch.Size([1009, 28, 28])\n"
          ],
          "name": "stdout"
        }
      ]
    },
    {
      "cell_type": "code",
      "metadata": {
        "id": "vk9tCJbU-VAG",
        "colab_type": "code",
        "colab": {}
      },
      "source": [
        "def diff(a,b): return(a-b).abs().mean((-1,-2))"
      ],
      "execution_count": 23,
      "outputs": []
    },
    {
      "cell_type": "code",
      "metadata": {
        "id": "CvGNx4wKA7Oq",
        "colab_type": "code",
        "colab": {
          "base_uri": "https://localhost:8080/",
          "height": 34
        },
        "outputId": "16954ffd-a5de-48e7-b470-fe98fef3786a"
      },
      "source": [
        "diff_0 = diff(valid_stacked_tensor[0], mean_tensors[0])\n",
        "diff_1 = diff(valid_stacked_tensor[0],mean_tensors[1])\n",
        "diff_2 = diff(valid_stacked_tensor[0], mean_tensors[2])\n",
        "\n",
        "diff_0.shape, diff_1.shape, diff_2.shape\n"
      ],
      "execution_count": 24,
      "outputs": [
        {
          "output_type": "execute_result",
          "data": {
            "text/plain": [
              "(torch.Size([980]), torch.Size([980]), torch.Size([980]))"
            ]
          },
          "metadata": {
            "tags": []
          },
          "execution_count": 24
        }
      ]
    },
    {
      "cell_type": "code",
      "metadata": {
        "id": "Z6tf1CxdBL0t",
        "colab_type": "code",
        "colab": {
          "base_uri": "https://localhost:8080/",
          "height": 34
        },
        "outputId": "64035580-2100-4fa3-f18a-d12db20561ac"
      },
      "source": [
        "diff_combined = torch.stack([diff_0, diff_1, diff_2]).T\n",
        "diff_combined.shape"
      ],
      "execution_count": 25,
      "outputs": [
        {
          "output_type": "execute_result",
          "data": {
            "text/plain": [
              "torch.Size([980, 3])"
            ]
          },
          "metadata": {
            "tags": []
          },
          "execution_count": 25
        }
      ]
    },
    {
      "cell_type": "code",
      "metadata": {
        "id": "iTT3tCBbCBIO",
        "colab_type": "code",
        "colab": {}
      },
      "source": [
        "mins = diff_combined.min(1)\n"
      ],
      "execution_count": 26,
      "outputs": []
    },
    {
      "cell_type": "code",
      "metadata": {
        "id": "o70E5KeSCW5L",
        "colab_type": "code",
        "colab": {
          "base_uri": "https://localhost:8080/",
          "height": 34
        },
        "outputId": "b7f820ef-4efe-4cd2-8835-ed833e4f7fad"
      },
      "source": [
        "(mins.indices==0).float().mean()"
      ],
      "execution_count": 27,
      "outputs": [
        {
          "output_type": "execute_result",
          "data": {
            "text/plain": [
              "tensor(0.8980)"
            ]
          },
          "metadata": {
            "tags": []
          },
          "execution_count": 27
        }
      ]
    },
    {
      "cell_type": "code",
      "metadata": {
        "id": "CpCTrMt9C85z",
        "colab_type": "code",
        "colab": {}
      },
      "source": [
        "# combine all the steps into a single function\n"
      ],
      "execution_count": 28,
      "outputs": []
    },
    {
      "cell_type": "code",
      "metadata": {
        "id": "9WRJhQewDEvH",
        "colab_type": "code",
        "colab": {}
      },
      "source": [
        "def calc_accuracy(image_dict, mean_dict):\n",
        "  accuracies=[]\n",
        "  for k,image in image_dict.items():\n",
        "    diffs = []\n",
        "    for km, mean in mean_dict.items():\n",
        "      diffs.append(diff(image,mean))\n",
        "    diffs = torch.stack(diffs).T\n",
        "    mins = diffs.min(1)\n",
        "    acc = (mins.indices==k).float().mean()\n",
        "    accuracies.append(acc)\n",
        "  return accuracies\n"
      ],
      "execution_count": 29,
      "outputs": []
    },
    {
      "cell_type": "code",
      "metadata": {
        "id": "IMseuigSFWl_",
        "colab_type": "code",
        "colab": {}
      },
      "source": [
        "accuracies = calc_accuracy(valid_stacked_tensor, mean_tensors)"
      ],
      "execution_count": 30,
      "outputs": []
    },
    {
      "cell_type": "code",
      "metadata": {
        "id": "vbJ0h9neFeNU",
        "colab_type": "code",
        "colab": {
          "base_uri": "https://localhost:8080/",
          "height": 221
        },
        "outputId": "a8192021-ec58-45a7-9f63-edff0c4e6b30"
      },
      "source": [
        "print('Class  Accuracy')\n",
        "for i, acc in enumerate(accuracies): print(f'{i} {acc:.4f}')\n",
        "print(f'Average accuracy {tensor(accuracies).mean():.4f}')"
      ],
      "execution_count": 31,
      "outputs": [
        {
          "output_type": "stream",
          "text": [
            "Class  Accuracy\n",
            "0 0.8153\n",
            "1 0.9982\n",
            "2 0.4234\n",
            "3 0.6089\n",
            "4 0.6680\n",
            "5 0.3262\n",
            "6 0.7871\n",
            "7 0.7646\n",
            "8 0.4425\n",
            "9 0.7760\n",
            "Average accuracy 0.6610\n"
          ],
          "name": "stdout"
        }
      ]
    },
    {
      "cell_type": "markdown",
      "metadata": {
        "id": "YvSH-LzreqZP",
        "colab_type": "text"
      },
      "source": [
        "### Implementation using SGD"
      ]
    },
    {
      "cell_type": "code",
      "metadata": {
        "id": "clFUcNs4FeUQ",
        "colab_type": "code",
        "colab": {}
      },
      "source": [
        "# since we have to predict one of the ten classes our single image could belong to, our label should be a vector of length 10,\n",
        "# also the loss function should be cross entropy loss"
      ],
      "execution_count": 34,
      "outputs": []
    },
    {
      "cell_type": "code",
      "metadata": {
        "id": "qTm1Y4mFFeZG",
        "colab_type": "code",
        "colab": {}
      },
      "source": [
        "# create a dataset and dataloader for training and validation set"
      ],
      "execution_count": 35,
      "outputs": []
    },
    {
      "cell_type": "code",
      "metadata": {
        "id": "oJ1GsuRuFeXc",
        "colab_type": "code",
        "colab": {
          "base_uri": "https://localhost:8080/",
          "height": 34
        },
        "outputId": "6d879cba-24b2-4380-fb0f-825dbec7d071"
      },
      "source": [
        "len(stacked_tensors)"
      ],
      "execution_count": 36,
      "outputs": [
        {
          "output_type": "execute_result",
          "data": {
            "text/plain": [
              "10"
            ]
          },
          "metadata": {
            "tags": []
          },
          "execution_count": 36
        }
      ]
    },
    {
      "cell_type": "code",
      "metadata": {
        "id": "klamN5qsD55c",
        "colab_type": "code",
        "colab": {}
      },
      "source": [
        "def create_labels(rows,cols,index):\n",
        "  '''\n",
        "  create one-hot encoded matrix with 1 at specific index position\n",
        "  '''\n",
        "  labels = torch.zeros((rows,cols))\n",
        "  labels[:,index]=1\n",
        "  return labels"
      ],
      "execution_count": 47,
      "outputs": []
    },
    {
      "cell_type": "code",
      "metadata": {
        "id": "lUnZ8EM4D70x",
        "colab_type": "code",
        "colab": {
          "base_uri": "https://localhost:8080/",
          "height": 102
        },
        "outputId": "7e9c18e3-c95c-4ca8-a1da-b3e968fa18db"
      },
      "source": [
        "# create labels for each of the classes in the training set\n",
        "\n",
        "stacked_labels = {key: create_labels(tensor.shape[0], len(stacked_tensors), key) for key,tensor in stacked_tensors.items()}\n",
        "stacked_labels[5][:5]\n",
        "\n",
        "# all images in the sixth position we have 1, and the rest is 0."
      ],
      "execution_count": 50,
      "outputs": [
        {
          "output_type": "execute_result",
          "data": {
            "text/plain": [
              "tensor([[0., 0., 0., 0., 0., 1., 0., 0., 0., 0.],\n",
              "        [0., 0., 0., 0., 0., 1., 0., 0., 0., 0.],\n",
              "        [0., 0., 0., 0., 0., 1., 0., 0., 0., 0.],\n",
              "        [0., 0., 0., 0., 0., 1., 0., 0., 0., 0.],\n",
              "        [0., 0., 0., 0., 0., 1., 0., 0., 0., 0.]])"
            ]
          },
          "metadata": {
            "tags": []
          },
          "execution_count": 50
        }
      ]
    },
    {
      "cell_type": "code",
      "metadata": {
        "id": "a7e5kwPcEYeo",
        "colab_type": "code",
        "colab": {
          "base_uri": "https://localhost:8080/",
          "height": 34
        },
        "outputId": "b32a7377-7101-49d6-c641-d93a0e628495"
      },
      "source": [
        "# combine all the images in the training set into one tensor and flatten them\n",
        "\n",
        "train_x = torch.cat([o for o in stacked_tensors.values()]).view(-1,28*28)\n",
        "train_y = torch.cat([o for o in stacked_labels.values()])\n",
        "\n",
        "train_x.shape, train_y.shape"
      ],
      "execution_count": 51,
      "outputs": [
        {
          "output_type": "execute_result",
          "data": {
            "text/plain": [
              "(torch.Size([60000, 784]), torch.Size([60000, 10]))"
            ]
          },
          "metadata": {
            "tags": []
          },
          "execution_count": 51
        }
      ]
    },
    {
      "cell_type": "code",
      "metadata": {
        "id": "3T8SZIjLi7B3",
        "colab_type": "code",
        "colab": {
          "base_uri": "https://localhost:8080/",
          "height": 187
        },
        "outputId": "afdc3c06-4247-4411-ef8b-124bde3d7219"
      },
      "source": [
        "for values in stacked_labels.values():\n",
        "  print(values.shape)"
      ],
      "execution_count": 53,
      "outputs": [
        {
          "output_type": "stream",
          "text": [
            "torch.Size([5923, 10])\n",
            "torch.Size([6742, 10])\n",
            "torch.Size([5958, 10])\n",
            "torch.Size([6131, 10])\n",
            "torch.Size([5842, 10])\n",
            "torch.Size([5421, 10])\n",
            "torch.Size([5918, 10])\n",
            "torch.Size([6265, 10])\n",
            "torch.Size([5851, 10])\n",
            "torch.Size([5949, 10])\n"
          ],
          "name": "stdout"
        }
      ]
    },
    {
      "cell_type": "code",
      "metadata": {
        "id": "UOrNtRahkSg0",
        "colab_type": "code",
        "colab": {
          "base_uri": "https://localhost:8080/",
          "height": 34
        },
        "outputId": "dc3fa2fd-df6a-403c-80dc-1381a95f02fd"
      },
      "source": [
        "# do the same for validation set also\n",
        "\n",
        "valid_stacked_labels = {key: create_labels(tensor.shape[0], len(stacked_tensors), key) for key,tensor in valid_stacked_tensor.items()}\n",
        "valid_x = torch.cat([o for o in valid_stacked_tensor.values()]).view(-1,28*28)\n",
        "valid_y = torch.cat([o for o in valid_stacked_labels.values()])\n",
        "\n",
        "valid_x.shape, valid_y.shape\n"
      ],
      "execution_count": 54,
      "outputs": [
        {
          "output_type": "execute_result",
          "data": {
            "text/plain": [
              "(torch.Size([10000, 784]), torch.Size([10000, 10]))"
            ]
          },
          "metadata": {
            "tags": []
          },
          "execution_count": 54
        }
      ]
    },
    {
      "cell_type": "code",
      "metadata": {
        "id": "E8VXIJ9dlHl8",
        "colab_type": "code",
        "colab": {
          "base_uri": "https://localhost:8080/",
          "height": 34
        },
        "outputId": "579e80fb-38c2-4fe5-8da5-09f74545c38b"
      },
      "source": [
        "# create a dataloader\n",
        "\n",
        "train_dataset = list(zip(train_x,train_y))\n",
        "train_dl = DataLoader(train_dataset,bs=64, shuffle=True)\n",
        "a_batch = first(train_dl)\n",
        "\n",
        "a_batch[0].shape, a_batch[1].shape "
      ],
      "execution_count": 55,
      "outputs": [
        {
          "output_type": "execute_result",
          "data": {
            "text/plain": [
              "(torch.Size([64, 784]), torch.Size([64, 10]))"
            ]
          },
          "metadata": {
            "tags": []
          },
          "execution_count": 55
        }
      ]
    },
    {
      "cell_type": "code",
      "metadata": {
        "id": "oV-KTeGBlsI6",
        "colab_type": "code",
        "colab": {}
      },
      "source": [
        "valid_dataset = list(zip(valid_x,valid_y))\n",
        "valid_dl = DataLoader(valid_dataset,bs=64)\n"
      ],
      "execution_count": 56,
      "outputs": []
    },
    {
      "cell_type": "markdown",
      "metadata": {
        "id": "4BNVQWjEmHWw",
        "colab_type": "text"
      },
      "source": [
        "## Define a Loss Function"
      ]
    },
    {
      "cell_type": "code",
      "metadata": {
        "id": "P6csO5Ovl8GF",
        "colab_type": "code",
        "colab": {}
      },
      "source": [
        "def cross_entropy_loss(preds, targets):\n",
        "  loss = -(targets*preds.log()).sum()/len(preds)\n",
        "  return loss"
      ],
      "execution_count": 57,
      "outputs": []
    },
    {
      "cell_type": "code",
      "metadata": {
        "id": "uogi3_xemjEE",
        "colab_type": "code",
        "colab": {
          "base_uri": "https://localhost:8080/",
          "height": 34
        },
        "outputId": "3a95b8cd-eb3f-45bc-81ae-d7d8807db5ee"
      },
      "source": [
        "# let's check for a dummy value\n",
        "\n",
        "targets = torch.tensor([0,0,1])\n",
        "preds = torch.tensor([0.2,0.5,0.7])\n",
        "cross_entropy_loss(preds,targets)"
      ],
      "execution_count": 58,
      "outputs": [
        {
          "output_type": "execute_result",
          "data": {
            "text/plain": [
              "tensor(0.1189)"
            ]
          },
          "metadata": {
            "tags": []
          },
          "execution_count": 58
        }
      ]
    },
    {
      "cell_type": "code",
      "metadata": {
        "id": "xy-8kPR-nE6p",
        "colab_type": "code",
        "colab": {}
      },
      "source": [
        "# use the softmax function to turn the prediction into probabilities, which sums to 1\n",
        "\n",
        "def cross_entropy_loss(preds,targets):\n",
        "  preds = preds.softmax(dim=1)\n",
        "  loss = -(targets*preds.log()).sum()/len(preds)\n",
        "  return loss"
      ],
      "execution_count": 60,
      "outputs": []
    },
    {
      "cell_type": "markdown",
      "metadata": {
        "id": "r43CdsWToPb8",
        "colab_type": "text"
      },
      "source": [
        "## Define the network"
      ]
    },
    {
      "cell_type": "code",
      "metadata": {
        "id": "JtaOQzq_nlwz",
        "colab_type": "code",
        "colab": {}
      },
      "source": [
        "def init_params(size, std=1.0):\n",
        "  return (torch.randn(size)*std).requires_grad_()"
      ],
      "execution_count": 62,
      "outputs": []
    },
    {
      "cell_type": "code",
      "metadata": {
        "id": "u9ih_0Binlz4",
        "colab_type": "code",
        "colab": {}
      },
      "source": [
        "weights = init_params((28*28,10))\n",
        "bias = init_params(1)"
      ],
      "execution_count": 63,
      "outputs": []
    },
    {
      "cell_type": "code",
      "metadata": {
        "id": "AI5Cx6y-o2Ad",
        "colab_type": "code",
        "colab": {
          "base_uri": "https://localhost:8080/",
          "height": 34
        },
        "outputId": "e926875f-1936-4533-a91c-ff578851f28c"
      },
      "source": [
        "weights.shape"
      ],
      "execution_count": 64,
      "outputs": [
        {
          "output_type": "execute_result",
          "data": {
            "text/plain": [
              "torch.Size([784, 10])"
            ]
          },
          "metadata": {
            "tags": []
          },
          "execution_count": 64
        }
      ]
    },
    {
      "cell_type": "code",
      "metadata": {
        "id": "vFwa9gNIo43M",
        "colab_type": "code",
        "colab": {}
      },
      "source": [
        "def linear1(xb):\n",
        "  return xb@weights+bias"
      ],
      "execution_count": 65,
      "outputs": []
    },
    {
      "cell_type": "code",
      "metadata": {
        "id": "aPbuKP8UpGES",
        "colab_type": "code",
        "colab": {
          "base_uri": "https://localhost:8080/",
          "height": 34
        },
        "outputId": "798c2465-13b8-4ada-c3cf-e34ae3b94626"
      },
      "source": [
        "images, labels = a_batch\n",
        "preds = linear1(images)\n",
        "loss = cross_entropy_loss(preds, labels)\n",
        "loss"
      ],
      "execution_count": 66,
      "outputs": [
        {
          "output_type": "execute_result",
          "data": {
            "text/plain": [
              "tensor(16.7447, grad_fn=<DivBackward0>)"
            ]
          },
          "metadata": {
            "tags": []
          },
          "execution_count": 66
        }
      ]
    },
    {
      "cell_type": "code",
      "metadata": {
        "id": "qDFmfdIBpcB-",
        "colab_type": "code",
        "colab": {
          "base_uri": "https://localhost:8080/",
          "height": 34
        },
        "outputId": "335a08de-1f27-4aac-8046-c3a908a04bf0"
      },
      "source": [
        "preds = linear1(images)\n",
        "preds.shape\n"
      ],
      "execution_count": 68,
      "outputs": [
        {
          "output_type": "execute_result",
          "data": {
            "text/plain": [
              "torch.Size([64, 10])"
            ]
          },
          "metadata": {
            "tags": []
          },
          "execution_count": 68
        }
      ]
    },
    {
      "cell_type": "code",
      "metadata": {
        "id": "6fKeWmtWpfHJ",
        "colab_type": "code",
        "colab": {
          "base_uri": "https://localhost:8080/",
          "height": 34
        },
        "outputId": "9c220b57-5ff9-4855-ffca-c3103b36089e"
      },
      "source": [
        "labels.shape"
      ],
      "execution_count": 69,
      "outputs": [
        {
          "output_type": "execute_result",
          "data": {
            "text/plain": [
              "torch.Size([64, 10])"
            ]
          },
          "metadata": {
            "tags": []
          },
          "execution_count": 69
        }
      ]
    },
    {
      "cell_type": "code",
      "metadata": {
        "id": "TN6igaJJplv6",
        "colab_type": "code",
        "colab": {}
      },
      "source": [
        "# backpropagate the loss\n",
        "\n",
        "loss.backward()"
      ],
      "execution_count": 70,
      "outputs": []
    },
    {
      "cell_type": "code",
      "metadata": {
        "id": "KCO0fioBpzQw",
        "colab_type": "code",
        "colab": {}
      },
      "source": [
        "lr = 1e-3\n",
        "weights.data-= lr*weights.grad\n",
        "bias.data-=lr*bias.grad"
      ],
      "execution_count": 71,
      "outputs": []
    },
    {
      "cell_type": "code",
      "metadata": {
        "id": "pgs5IAp9qOlL",
        "colab_type": "code",
        "colab": {}
      },
      "source": [
        "weights.grad=None\n",
        "bias.grad=None"
      ],
      "execution_count": 72,
      "outputs": []
    },
    {
      "cell_type": "code",
      "metadata": {
        "id": "Z58I6JhAqUcV",
        "colab_type": "code",
        "colab": {
          "base_uri": "https://localhost:8080/",
          "height": 34
        },
        "outputId": "e7a36bc3-1a87-4a4f-ae3c-49492191d8bd"
      },
      "source": [
        "# checking if loss has reduced\n",
        "\n",
        "preds = linear1(images)\n",
        "loss = cross_entropy_loss(preds,labels)\n",
        "loss"
      ],
      "execution_count": 73,
      "outputs": [
        {
          "output_type": "execute_result",
          "data": {
            "text/plain": [
              "tensor(16.7245, grad_fn=<DivBackward0>)"
            ]
          },
          "metadata": {
            "tags": []
          },
          "execution_count": 73
        }
      ]
    },
    {
      "cell_type": "code",
      "metadata": {
        "id": "jz_YWFNUqmNf",
        "colab_type": "code",
        "colab": {}
      },
      "source": [
        "def calc_grad(images, labels, model):\n",
        "  preds = model(images)\n",
        "  loss = cross_entropy_loss(preds, labels)\n",
        "  loss.backward()\n",
        "  "
      ],
      "execution_count": 74,
      "outputs": []
    },
    {
      "cell_type": "code",
      "metadata": {
        "id": "ixmjjRiYv7gu",
        "colab_type": "code",
        "colab": {}
      },
      "source": [
        "def train_epoch(model, lr, params):\n",
        "  for images,labels in train_dl:\n",
        "    calc_grad(images,labels,model)\n",
        "    for p in params: # loop over and update weights and bias\n",
        "      p.data-=lr*p.grad\n",
        "      p.grad.zero_()\n"
      ],
      "execution_count": 76,
      "outputs": []
    },
    {
      "cell_type": "code",
      "metadata": {
        "id": "BOqonJZTwrSP",
        "colab_type": "code",
        "colab": {}
      },
      "source": [
        "def calc_accuracy(preds,targets):\n",
        "  preds = preds.softmax(dim=1)\n",
        "  preds_i = preds.max(1).indices\n",
        "  targets_i = targets.max(1).indices\n",
        "  return (preds_i==targets_i).float().mean()"
      ],
      "execution_count": 77,
      "outputs": []
    },
    {
      "cell_type": "code",
      "metadata": {
        "id": "FusVPNuqxQR3",
        "colab_type": "code",
        "colab": {}
      },
      "source": [
        "def validate_epoch(model):\n",
        "  accs = [calc_accuracy(model(images),labels) for images,labels in valid_dl]\n",
        "  return torch.stack(accs).mean()"
      ],
      "execution_count": 78,
      "outputs": []
    },
    {
      "cell_type": "code",
      "metadata": {
        "id": "54V6IQoExrLJ",
        "colab_type": "code",
        "colab": {
          "base_uri": "https://localhost:8080/",
          "height": 34
        },
        "outputId": "c5b3082d-7701-4403-f280-2b20e9232962"
      },
      "source": [
        "validate_epoch(linear1)"
      ],
      "execution_count": 79,
      "outputs": [
        {
          "output_type": "execute_result",
          "data": {
            "text/plain": [
              "tensor(0.0739)"
            ]
          },
          "metadata": {
            "tags": []
          },
          "execution_count": 79
        }
      ]
    },
    {
      "cell_type": "code",
      "metadata": {
        "id": "2ixH2wqyxvEM",
        "colab_type": "code",
        "colab": {
          "base_uri": "https://localhost:8080/",
          "height": 54
        },
        "outputId": "7d2943c7-5726-436b-83c7-55632202ede7"
      },
      "source": [
        "for _ in range(40):\n",
        "  train_epoch(linear1, lr, (weights,bias))\n",
        "  print(f'{validate_epoch(linear1):.4f}', end=' ')"
      ],
      "execution_count": 80,
      "outputs": [
        {
          "output_type": "stream",
          "text": [
            "0.0944 0.1290 0.1703 0.2149 0.2550 0.2941 0.3252 0.3562 0.3835 0.4097 0.4326 0.4540 0.4773 0.4950 0.5096 0.5251 0.5392 0.5536 0.5663 0.5770 0.5867 0.5967 0.6056 0.6136 0.6222 0.6298 0.6379 0.6456 0.6510 0.6571 0.6628 0.6689 0.6752 0.6812 0.6857 0.6914 0.6952 0.6996 0.7036 0.7067 "
          ],
          "name": "stdout"
        }
      ]
    },
    {
      "cell_type": "code",
      "metadata": {
        "id": "00NecX97yU8E",
        "colab_type": "code",
        "colab": {}
      },
      "source": [
        "# basline model got 66.10 while model with SGD got 70.67\n",
        "# we have been able to surpass the performance of basline model"
      ],
      "execution_count": 82,
      "outputs": []
    },
    {
      "cell_type": "markdown",
      "metadata": {
        "id": "RpvTDTHny9Ox",
        "colab_type": "text"
      },
      "source": [
        "## Create and Optimizer"
      ]
    },
    {
      "cell_type": "code",
      "metadata": {
        "id": "yRZ03xfFyoXT",
        "colab_type": "code",
        "colab": {}
      },
      "source": [
        "class Optimizer:\n",
        "  def __init__(self, params, lr):\n",
        "    self.params = list(params)\n",
        "    self.lr = lr\n",
        "  \n",
        "  def step(self):\n",
        "    for p in self.params:\n",
        "      p.data-=p.grad*self.lr\n",
        "  \n",
        "  def zero_grad(self):\n",
        "    for p in self.params:\n",
        "      p.grad = None"
      ],
      "execution_count": 91,
      "outputs": []
    },
    {
      "cell_type": "code",
      "metadata": {
        "id": "DP57S8FxzlyP",
        "colab_type": "code",
        "colab": {}
      },
      "source": [
        "optim = Optimizer((weights,bias),lr)"
      ],
      "execution_count": 92,
      "outputs": []
    },
    {
      "cell_type": "code",
      "metadata": {
        "id": "JMGThpXrzqNW",
        "colab_type": "code",
        "colab": {}
      },
      "source": [
        "# TRAIN_EPOCHS now becomes\n",
        "\n",
        "def train_epoch(model,optim):\n",
        "  for images,labels in train_dl:\n",
        "    calc_grad(images,labels,model)\n",
        "    optim.step()\n",
        "    optim.zero_grad()\n",
        "\n"
      ],
      "execution_count": 95,
      "outputs": []
    },
    {
      "cell_type": "code",
      "metadata": {
        "id": "j8wQHPU_0hhA",
        "colab_type": "code",
        "colab": {
          "base_uri": "https://localhost:8080/",
          "height": 34
        },
        "outputId": "2edeee6a-f0f5-42b0-a972-e94cc61c1362"
      },
      "source": [
        "for _ in range(10):\n",
        "  train_epoch(linear1,optim)\n",
        "  print(f'{validate_epoch(linear1):.4f}', end=' ')\n",
        "  "
      ],
      "execution_count": 96,
      "outputs": [
        {
          "output_type": "stream",
          "text": [
            "0.7101 0.7126 0.7160 0.7191 0.7224 0.7255 0.7293 0.7329 0.7356 0.7374 "
          ],
          "name": "stdout"
        }
      ]
    },
    {
      "cell_type": "code",
      "metadata": {
        "id": "MYdHNxqo06D1",
        "colab_type": "code",
        "colab": {}
      },
      "source": [
        "# let's put the above loop inside a function\n",
        "\n",
        "def train_model(model,optim,epochs):\n",
        "  for _ in range(epochs):\n",
        "    train_epoch(model,optim)\n",
        "    print(f'{validate_epoch(model):.4f}', end=' ')\n",
        "  \n"
      ],
      "execution_count": 97,
      "outputs": []
    },
    {
      "cell_type": "code",
      "metadata": {
        "id": "OJBYOh4g1WCK",
        "colab_type": "code",
        "colab": {
          "base_uri": "https://localhost:8080/",
          "height": 34
        },
        "outputId": "3aed912e-c9b2-4b4c-d043-a2d03a5e8cc4"
      },
      "source": [
        "train_model(linear1, optim,10)"
      ],
      "execution_count": 98,
      "outputs": [
        {
          "output_type": "stream",
          "text": [
            "0.7397 0.7419 0.7443 0.7461 0.7487 0.7499 0.7516 0.7533 0.7556 0.7574 "
          ],
          "name": "stdout"
        }
      ]
    },
    {
      "cell_type": "markdown",
      "metadata": {
        "id": "H3PEpUGA1m3d",
        "colab_type": "text"
      },
      "source": [
        "## Replace our optimizer with Pytorch SGD and our linear1 model with nn.linear (linear module) \n",
        "## Also let us repalce the training loop with fast ai's Learner"
      ]
    },
    {
      "cell_type": "code",
      "metadata": {
        "id": "3zaxCf561cIi",
        "colab_type": "code",
        "colab": {}
      },
      "source": [
        "linear = nn.Linear(28*28, 10) # does the same thing as init_parameter and linear1 together\n",
        "optim = SGD(linear.parameters(),lr)\n",
        "\n"
      ],
      "execution_count": 99,
      "outputs": []
    },
    {
      "cell_type": "code",
      "metadata": {
        "id": "CmecEjO93OB3",
        "colab_type": "code",
        "colab": {}
      },
      "source": [
        "dls = DataLoaders(train_dl, valid_dl)\n"
      ],
      "execution_count": 100,
      "outputs": []
    },
    {
      "cell_type": "code",
      "metadata": {
        "id": "xDYj6mJO3VzU",
        "colab_type": "code",
        "colab": {}
      },
      "source": [
        "learn = Learner(dls, linear, opt_func=SGD, loss_func=cross_entropy_loss, metrics=calc_accuracy)\n"
      ],
      "execution_count": 101,
      "outputs": []
    },
    {
      "cell_type": "code",
      "metadata": {
        "id": "nIo1EJ8L3rg4",
        "colab_type": "code",
        "colab": {
          "base_uri": "https://localhost:8080/",
          "height": 359
        },
        "outputId": "384dc646-f248-4a5c-e914-b865b148061f"
      },
      "source": [
        "learn.fit(10,lr=lr)"
      ],
      "execution_count": 102,
      "outputs": [
        {
          "output_type": "display_data",
          "data": {
            "text/html": [
              "<table border=\"1\" class=\"dataframe\">\n",
              "  <thead>\n",
              "    <tr style=\"text-align: left;\">\n",
              "      <th>epoch</th>\n",
              "      <th>train_loss</th>\n",
              "      <th>valid_loss</th>\n",
              "      <th>calc_accuracy</th>\n",
              "      <th>time</th>\n",
              "    </tr>\n",
              "  </thead>\n",
              "  <tbody>\n",
              "    <tr>\n",
              "      <td>0</td>\n",
              "      <td>1.609623</td>\n",
              "      <td>1.560260</td>\n",
              "      <td>0.771400</td>\n",
              "      <td>00:02</td>\n",
              "    </tr>\n",
              "    <tr>\n",
              "      <td>1</td>\n",
              "      <td>1.230288</td>\n",
              "      <td>1.200466</td>\n",
              "      <td>0.812000</td>\n",
              "      <td>00:02</td>\n",
              "    </tr>\n",
              "    <tr>\n",
              "      <td>2</td>\n",
              "      <td>1.035724</td>\n",
              "      <td>1.002126</td>\n",
              "      <td>0.828600</td>\n",
              "      <td>00:02</td>\n",
              "    </tr>\n",
              "    <tr>\n",
              "      <td>3</td>\n",
              "      <td>0.904997</td>\n",
              "      <td>0.879477</td>\n",
              "      <td>0.840800</td>\n",
              "      <td>00:02</td>\n",
              "    </tr>\n",
              "    <tr>\n",
              "      <td>4</td>\n",
              "      <td>0.830186</td>\n",
              "      <td>0.796053</td>\n",
              "      <td>0.847700</td>\n",
              "      <td>00:02</td>\n",
              "    </tr>\n",
              "    <tr>\n",
              "      <td>5</td>\n",
              "      <td>0.764524</td>\n",
              "      <td>0.735867</td>\n",
              "      <td>0.853900</td>\n",
              "      <td>00:02</td>\n",
              "    </tr>\n",
              "    <tr>\n",
              "      <td>6</td>\n",
              "      <td>0.702281</td>\n",
              "      <td>0.690018</td>\n",
              "      <td>0.858500</td>\n",
              "      <td>00:02</td>\n",
              "    </tr>\n",
              "    <tr>\n",
              "      <td>7</td>\n",
              "      <td>0.672464</td>\n",
              "      <td>0.654008</td>\n",
              "      <td>0.862200</td>\n",
              "      <td>00:02</td>\n",
              "    </tr>\n",
              "    <tr>\n",
              "      <td>8</td>\n",
              "      <td>0.645764</td>\n",
              "      <td>0.624767</td>\n",
              "      <td>0.864700</td>\n",
              "      <td>00:02</td>\n",
              "    </tr>\n",
              "    <tr>\n",
              "      <td>9</td>\n",
              "      <td>0.628825</td>\n",
              "      <td>0.600266</td>\n",
              "      <td>0.868500</td>\n",
              "      <td>00:02</td>\n",
              "    </tr>\n",
              "  </tbody>\n",
              "</table>"
            ],
            "text/plain": [
              "<IPython.core.display.HTML object>"
            ]
          },
          "metadata": {
            "tags": []
          }
        }
      ]
    },
    {
      "cell_type": "markdown",
      "metadata": {
        "id": "uYfoJAGU3_KC",
        "colab_type": "text"
      },
      "source": [
        "## Adding a non-linearity to the model"
      ]
    },
    {
      "cell_type": "code",
      "metadata": {
        "id": "idI_MOp53vwJ",
        "colab_type": "code",
        "colab": {}
      },
      "source": [
        "model = nn.Sequential(\n",
        "     nn.Linear(28*28,128),  \n",
        "     nn.ReLU(),  \n",
        "     nn.Linear(128,10) \n",
        "    )"
      ],
      "execution_count": 104,
      "outputs": []
    },
    {
      "cell_type": "code",
      "metadata": {
        "id": "8sy2IVsF4bMD",
        "colab_type": "code",
        "colab": {}
      },
      "source": [
        "learn = Learner(dls,model,loss_func=cross_entropy_loss, opt_func=SGD, metrics=calc_accuracy)"
      ],
      "execution_count": 105,
      "outputs": []
    },
    {
      "cell_type": "code",
      "metadata": {
        "id": "GSI6_x-U4z9L",
        "colab_type": "code",
        "colab": {
          "base_uri": "https://localhost:8080/",
          "height": 1000
        },
        "outputId": "e0023f81-b7ea-4a70-d031-1c567df16ac0"
      },
      "source": [
        "learn.fit(40,1e-2)"
      ],
      "execution_count": 106,
      "outputs": [
        {
          "output_type": "display_data",
          "data": {
            "text/html": [
              "<table border=\"1\" class=\"dataframe\">\n",
              "  <thead>\n",
              "    <tr style=\"text-align: left;\">\n",
              "      <th>epoch</th>\n",
              "      <th>train_loss</th>\n",
              "      <th>valid_loss</th>\n",
              "      <th>calc_accuracy</th>\n",
              "      <th>time</th>\n",
              "    </tr>\n",
              "  </thead>\n",
              "  <tbody>\n",
              "    <tr>\n",
              "      <td>0</td>\n",
              "      <td>0.632940</td>\n",
              "      <td>0.591582</td>\n",
              "      <td>0.864400</td>\n",
              "      <td>00:03</td>\n",
              "    </tr>\n",
              "    <tr>\n",
              "      <td>1</td>\n",
              "      <td>0.431242</td>\n",
              "      <td>0.405655</td>\n",
              "      <td>0.893700</td>\n",
              "      <td>00:03</td>\n",
              "    </tr>\n",
              "    <tr>\n",
              "      <td>2</td>\n",
              "      <td>0.368443</td>\n",
              "      <td>0.351003</td>\n",
              "      <td>0.904200</td>\n",
              "      <td>00:03</td>\n",
              "    </tr>\n",
              "    <tr>\n",
              "      <td>3</td>\n",
              "      <td>0.337220</td>\n",
              "      <td>0.322774</td>\n",
              "      <td>0.910800</td>\n",
              "      <td>00:03</td>\n",
              "    </tr>\n",
              "    <tr>\n",
              "      <td>4</td>\n",
              "      <td>0.306278</td>\n",
              "      <td>0.302487</td>\n",
              "      <td>0.915400</td>\n",
              "      <td>00:03</td>\n",
              "    </tr>\n",
              "    <tr>\n",
              "      <td>5</td>\n",
              "      <td>0.303930</td>\n",
              "      <td>0.286709</td>\n",
              "      <td>0.920500</td>\n",
              "      <td>00:03</td>\n",
              "    </tr>\n",
              "    <tr>\n",
              "      <td>6</td>\n",
              "      <td>0.272084</td>\n",
              "      <td>0.275379</td>\n",
              "      <td>0.923000</td>\n",
              "      <td>00:03</td>\n",
              "    </tr>\n",
              "    <tr>\n",
              "      <td>7</td>\n",
              "      <td>0.276512</td>\n",
              "      <td>0.264942</td>\n",
              "      <td>0.926000</td>\n",
              "      <td>00:03</td>\n",
              "    </tr>\n",
              "    <tr>\n",
              "      <td>8</td>\n",
              "      <td>0.261160</td>\n",
              "      <td>0.255517</td>\n",
              "      <td>0.928500</td>\n",
              "      <td>00:03</td>\n",
              "    </tr>\n",
              "    <tr>\n",
              "      <td>9</td>\n",
              "      <td>0.237433</td>\n",
              "      <td>0.245541</td>\n",
              "      <td>0.930800</td>\n",
              "      <td>00:03</td>\n",
              "    </tr>\n",
              "    <tr>\n",
              "      <td>10</td>\n",
              "      <td>0.231607</td>\n",
              "      <td>0.235958</td>\n",
              "      <td>0.932700</td>\n",
              "      <td>00:03</td>\n",
              "    </tr>\n",
              "    <tr>\n",
              "      <td>11</td>\n",
              "      <td>0.241358</td>\n",
              "      <td>0.229595</td>\n",
              "      <td>0.934600</td>\n",
              "      <td>00:03</td>\n",
              "    </tr>\n",
              "    <tr>\n",
              "      <td>12</td>\n",
              "      <td>0.233470</td>\n",
              "      <td>0.222676</td>\n",
              "      <td>0.936400</td>\n",
              "      <td>00:03</td>\n",
              "    </tr>\n",
              "    <tr>\n",
              "      <td>13</td>\n",
              "      <td>0.233940</td>\n",
              "      <td>0.215920</td>\n",
              "      <td>0.937800</td>\n",
              "      <td>00:03</td>\n",
              "    </tr>\n",
              "    <tr>\n",
              "      <td>14</td>\n",
              "      <td>0.201582</td>\n",
              "      <td>0.208890</td>\n",
              "      <td>0.940400</td>\n",
              "      <td>00:03</td>\n",
              "    </tr>\n",
              "    <tr>\n",
              "      <td>15</td>\n",
              "      <td>0.201692</td>\n",
              "      <td>0.202425</td>\n",
              "      <td>0.941900</td>\n",
              "      <td>00:03</td>\n",
              "    </tr>\n",
              "    <tr>\n",
              "      <td>16</td>\n",
              "      <td>0.206438</td>\n",
              "      <td>0.197708</td>\n",
              "      <td>0.943100</td>\n",
              "      <td>00:03</td>\n",
              "    </tr>\n",
              "    <tr>\n",
              "      <td>17</td>\n",
              "      <td>0.200713</td>\n",
              "      <td>0.192467</td>\n",
              "      <td>0.944300</td>\n",
              "      <td>00:03</td>\n",
              "    </tr>\n",
              "    <tr>\n",
              "      <td>18</td>\n",
              "      <td>0.194184</td>\n",
              "      <td>0.188529</td>\n",
              "      <td>0.946400</td>\n",
              "      <td>00:03</td>\n",
              "    </tr>\n",
              "    <tr>\n",
              "      <td>19</td>\n",
              "      <td>0.174587</td>\n",
              "      <td>0.181757</td>\n",
              "      <td>0.946700</td>\n",
              "      <td>00:03</td>\n",
              "    </tr>\n",
              "    <tr>\n",
              "      <td>20</td>\n",
              "      <td>0.200877</td>\n",
              "      <td>0.177497</td>\n",
              "      <td>0.948300</td>\n",
              "      <td>00:03</td>\n",
              "    </tr>\n",
              "    <tr>\n",
              "      <td>21</td>\n",
              "      <td>0.174502</td>\n",
              "      <td>0.174009</td>\n",
              "      <td>0.949700</td>\n",
              "      <td>00:03</td>\n",
              "    </tr>\n",
              "    <tr>\n",
              "      <td>22</td>\n",
              "      <td>0.172319</td>\n",
              "      <td>0.169996</td>\n",
              "      <td>0.951500</td>\n",
              "      <td>00:03</td>\n",
              "    </tr>\n",
              "    <tr>\n",
              "      <td>23</td>\n",
              "      <td>0.158476</td>\n",
              "      <td>0.167418</td>\n",
              "      <td>0.951000</td>\n",
              "      <td>00:03</td>\n",
              "    </tr>\n",
              "    <tr>\n",
              "      <td>24</td>\n",
              "      <td>0.164247</td>\n",
              "      <td>0.163204</td>\n",
              "      <td>0.952400</td>\n",
              "      <td>00:03</td>\n",
              "    </tr>\n",
              "    <tr>\n",
              "      <td>25</td>\n",
              "      <td>0.168347</td>\n",
              "      <td>0.159171</td>\n",
              "      <td>0.953400</td>\n",
              "      <td>00:03</td>\n",
              "    </tr>\n",
              "    <tr>\n",
              "      <td>26</td>\n",
              "      <td>0.156495</td>\n",
              "      <td>0.155674</td>\n",
              "      <td>0.955300</td>\n",
              "      <td>00:03</td>\n",
              "    </tr>\n",
              "    <tr>\n",
              "      <td>27</td>\n",
              "      <td>0.157649</td>\n",
              "      <td>0.152151</td>\n",
              "      <td>0.956100</td>\n",
              "      <td>00:03</td>\n",
              "    </tr>\n",
              "    <tr>\n",
              "      <td>28</td>\n",
              "      <td>0.152472</td>\n",
              "      <td>0.149311</td>\n",
              "      <td>0.956700</td>\n",
              "      <td>00:03</td>\n",
              "    </tr>\n",
              "    <tr>\n",
              "      <td>29</td>\n",
              "      <td>0.155554</td>\n",
              "      <td>0.147065</td>\n",
              "      <td>0.957100</td>\n",
              "      <td>00:03</td>\n",
              "    </tr>\n",
              "    <tr>\n",
              "      <td>30</td>\n",
              "      <td>0.137546</td>\n",
              "      <td>0.143568</td>\n",
              "      <td>0.957800</td>\n",
              "      <td>00:03</td>\n",
              "    </tr>\n",
              "    <tr>\n",
              "      <td>31</td>\n",
              "      <td>0.131929</td>\n",
              "      <td>0.141454</td>\n",
              "      <td>0.958800</td>\n",
              "      <td>00:03</td>\n",
              "    </tr>\n",
              "    <tr>\n",
              "      <td>32</td>\n",
              "      <td>0.137316</td>\n",
              "      <td>0.138742</td>\n",
              "      <td>0.959800</td>\n",
              "      <td>00:03</td>\n",
              "    </tr>\n",
              "    <tr>\n",
              "      <td>33</td>\n",
              "      <td>0.143612</td>\n",
              "      <td>0.136631</td>\n",
              "      <td>0.960300</td>\n",
              "      <td>00:03</td>\n",
              "    </tr>\n",
              "    <tr>\n",
              "      <td>34</td>\n",
              "      <td>0.139150</td>\n",
              "      <td>0.134077</td>\n",
              "      <td>0.961300</td>\n",
              "      <td>00:03</td>\n",
              "    </tr>\n",
              "    <tr>\n",
              "      <td>35</td>\n",
              "      <td>0.122293</td>\n",
              "      <td>0.131958</td>\n",
              "      <td>0.962000</td>\n",
              "      <td>00:03</td>\n",
              "    </tr>\n",
              "    <tr>\n",
              "      <td>36</td>\n",
              "      <td>0.125520</td>\n",
              "      <td>0.130089</td>\n",
              "      <td>0.962300</td>\n",
              "      <td>00:03</td>\n",
              "    </tr>\n",
              "    <tr>\n",
              "      <td>37</td>\n",
              "      <td>0.120722</td>\n",
              "      <td>0.128164</td>\n",
              "      <td>0.963200</td>\n",
              "      <td>00:03</td>\n",
              "    </tr>\n",
              "    <tr>\n",
              "      <td>38</td>\n",
              "      <td>0.127459</td>\n",
              "      <td>0.125876</td>\n",
              "      <td>0.963700</td>\n",
              "      <td>00:03</td>\n",
              "    </tr>\n",
              "    <tr>\n",
              "      <td>39</td>\n",
              "      <td>0.119088</td>\n",
              "      <td>0.123800</td>\n",
              "      <td>0.964500</td>\n",
              "      <td>00:03</td>\n",
              "    </tr>\n",
              "  </tbody>\n",
              "</table>"
            ],
            "text/plain": [
              "<IPython.core.display.HTML object>"
            ]
          },
          "metadata": {
            "tags": []
          }
        }
      ]
    },
    {
      "cell_type": "code",
      "metadata": {
        "id": "s8KxLABd44FX",
        "colab_type": "code",
        "colab": {
          "base_uri": "https://localhost:8080/",
          "height": 265
        },
        "outputId": "4a58c762-d303-4df7-a2d9-e58c88d3ae66"
      },
      "source": [
        "plt.plot(L(learn.recorder.values).itemgot(2));"
      ],
      "execution_count": 109,
      "outputs": [
        {
          "output_type": "display_data",
          "data": {
            "image/png": "[encoded data removed]",
            "text/plain": [
              "<Figure size 432x288 with 1 Axes>"
            ]
          },
          "metadata": {
            "tags": [],
            "needs_background": "light"
          }
        }
      ]
    },
    {
      "cell_type": "markdown",
      "metadata": {
        "id": "_rWsAiW_5zVn",
        "colab_type": "text"
      },
      "source": [
        "## Scaling up and using Resnet18"
      ]
    },
    {
      "cell_type": "code",
      "metadata": {
        "id": "hytk1ABG5bXM",
        "colab_type": "code",
        "colab": {
          "base_uri": "https://localhost:8080/",
          "height": 204
        },
        "outputId": "88f19d4f-facc-4885-9ffb-b63a7bb862b8"
      },
      "source": [
        "dls = ImageDataLoaders.from_folder(path,train='training',valid='testing')\n",
        "learn = cnn_learner(dls,resnet18, pretrained=False, loss_func=F.cross_entropy, metrics=accuracy)\n",
        "learn.fit_one_cycle(5, 1e-3)"
      ],
      "execution_count": 110,
      "outputs": [
        {
          "output_type": "display_data",
          "data": {
            "text/html": [
              "<table border=\"1\" class=\"dataframe\">\n",
              "  <thead>\n",
              "    <tr style=\"text-align: left;\">\n",
              "      <th>epoch</th>\n",
              "      <th>train_loss</th>\n",
              "      <th>valid_loss</th>\n",
              "      <th>accuracy</th>\n",
              "      <th>time</th>\n",
              "    </tr>\n",
              "  </thead>\n",
              "  <tbody>\n",
              "    <tr>\n",
              "      <td>0</td>\n",
              "      <td>0.187359</td>\n",
              "      <td>0.165880</td>\n",
              "      <td>0.947700</td>\n",
              "      <td>01:05</td>\n",
              "    </tr>\n",
              "    <tr>\n",
              "      <td>1</td>\n",
              "      <td>0.081094</td>\n",
              "      <td>0.074855</td>\n",
              "      <td>0.979900</td>\n",
              "      <td>01:05</td>\n",
              "    </tr>\n",
              "    <tr>\n",
              "      <td>2</td>\n",
              "      <td>0.051536</td>\n",
              "      <td>0.036066</td>\n",
              "      <td>0.989000</td>\n",
              "      <td>01:06</td>\n",
              "    </tr>\n",
              "    <tr>\n",
              "      <td>3</td>\n",
              "      <td>0.018102</td>\n",
              "      <td>0.020283</td>\n",
              "      <td>0.994300</td>\n",
              "      <td>01:05</td>\n",
              "    </tr>\n",
              "    <tr>\n",
              "      <td>4</td>\n",
              "      <td>0.013370</td>\n",
              "      <td>0.016824</td>\n",
              "      <td>0.994200</td>\n",
              "      <td>01:05</td>\n",
              "    </tr>\n",
              "  </tbody>\n",
              "</table>"
            ],
            "text/plain": [
              "<IPython.core.display.HTML object>"
            ]
          },
          "metadata": {
            "tags": []
          }
        }
      ]
    },
    {
      "cell_type": "code",
      "metadata": {
        "id": "ZhjtrROk6XRd",
        "colab_type": "code",
        "colab": {}
      },
      "source": [
        ""
      ],
      "execution_count": null,
      "outputs": []
    }
  ]
}