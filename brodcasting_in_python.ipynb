{
  "nbformat": 4,
  "nbformat_minor": 0,
  "metadata": {
    "colab": {
      "name": "brodcasting_in_python.ipynb",
      "provenance": [],
      "authorship_tag": "ABX9TyO1Q2BdZNVx6Xv7FMhbIvYP",
      "include_colab_link": true
    },
    "kernelspec": {
      "name": "python3",
      "display_name": "Python 3"
    }
  },
  "cells": [
    {
      "cell_type": "markdown",
      "metadata": {
        "id": "view-in-github",
        "colab_type": "text"
      },
      "source": [
        "<a href=\"https://colab.research.google.com/github/Aayush360/Fast_AI/blob/master/brodcasting_in_python.ipynb\" target=\"_parent\"><img src=\"https://colab.research.google.com/assets/colab-badge.svg\" alt=\"Open In Colab\"/></a>"
      ]
    },
    {
      "cell_type": "code",
      "metadata": {
        "id": "A6BfeAm1SDb3"
      },
      "source": [
        "import numpy as np"
      ],
      "execution_count": 1,
      "outputs": []
    },
    {
      "cell_type": "code",
      "metadata": {
        "id": "bWRDJGN0SGuz",
        "outputId": "553c5124-7e5f-487e-bc28-68ad1e98621e",
        "colab": {
          "base_uri": "https://localhost:8080/",
          "height": 68
        }
      },
      "source": [
        "a = np.array([[56.0,0.0,4.4,68.0],[1.2,104.0,52.0,8.0],[1.8,135,99.0,0.9]])\n",
        "a"
      ],
      "execution_count": 2,
      "outputs": [
        {
          "output_type": "execute_result",
          "data": {
            "text/plain": [
              "array([[ 56. ,   0. ,   4.4,  68. ],\n",
              "       [  1.2, 104. ,  52. ,   8. ],\n",
              "       [  1.8, 135. ,  99. ,   0.9]])"
            ]
          },
          "metadata": {
            "tags": []
          },
          "execution_count": 2
        }
      ]
    },
    {
      "cell_type": "code",
      "metadata": {
        "id": "vMDaGr_GSgTy"
      },
      "source": [
        "sum=np.sum(a,axis=0)"
      ],
      "execution_count": 5,
      "outputs": []
    },
    {
      "cell_type": "code",
      "metadata": {
        "id": "UcKwuHSfSlCj",
        "outputId": "63d74e53-f668-4afb-a550-cca1ef34706a",
        "colab": {
          "base_uri": "https://localhost:8080/",
          "height": 85
        }
      },
      "source": [
        "carb=a[0,:]/sum\n",
        "protein = a[1,:]/sum\n",
        "fat = a[2,:]/sum\n",
        "\n",
        "print('                        apple        beef         eggs      potatoes')\n",
        "print('carbs contribution    ',  carb)\n",
        "print('protein contribution  ',protein)\n",
        "print('fat contribution.     ',fat)"
      ],
      "execution_count": 9,
      "outputs": [
        {
          "output_type": "stream",
          "text": [
            "                        apple        beef         eggs      potatoes\n",
            "carbs contribution     [0.94915254 0.         0.02831403 0.88426528]\n",
            "protein contribution   [0.02033898 0.43514644 0.33462033 0.10403121]\n",
            "fat contribution.      [0.03050847 0.56485356 0.63706564 0.01170351]\n"
          ],
          "name": "stdout"
        }
      ]
    },
    {
      "cell_type": "code",
      "metadata": {
        "id": "ggvhTrWPStEl"
      },
      "source": [
        ""
      ],
      "execution_count": null,
      "outputs": []
    }
  ]
}